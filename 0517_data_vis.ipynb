{
 "cells": [
  {
   "cell_type": "code",
   "execution_count": 1,
   "metadata": {},
   "outputs": [],
   "source": [
    "import pandas as pd\n",
    "import matplotlib.pyplot as plt\n",
    "import seaborn as sns\n",
    "import numpy as np\n",
    "import matplotlib.patches as pplt\n",
    "import matplotlib.cm as cm\n",
    "from matplotlib import lines\n",
    "import datetime\n",
    "import plotly.graph_objects as go\n",
    "from matplotlib import rcParams as rcp"
   ]
  },
  {
   "cell_type": "markdown",
   "metadata": {},
   "source": [
    "# Setting variables"
   ]
  },
  {
   "cell_type": "code",
   "execution_count": 5,
   "metadata": {},
   "outputs": [
    {
     "name": "stdout",
     "output_type": "stream",
     "text": [
      "Gene name: brca2\n"
     ]
    },
    {
     "name": "stderr",
     "output_type": "stream",
     "text": [
      "C:\\Users\\alexa\\anaconda\\lib\\site-packages\\IPython\\core\\interactiveshell.py:3146: DtypeWarning: Columns (43,47) have mixed types.Specify dtype option on import or set low_memory=False.\n",
      "  has_raised = await self.run_ast_nodes(code_ast.body, cell_name,\n"
     ]
    }
   ],
   "source": [
    "gene_name = input('Gene name: ')\n",
    "date = str(datetime.date.today())\n",
    "# joint file of gene\n",
    "joint_in = r'joint_files_out/' + date + '_' + gene_name.lower() + '_joint_out.csv'\n",
    "df = pd.read_csv(joint_in)"
   ]
  },
  {
   "cell_type": "markdown",
   "metadata": {},
   "source": [
    "# For coding sequence"
   ]
  },
  {
   "cell_type": "code",
   "execution_count": 6,
   "metadata": {},
   "outputs": [
    {
     "data": {
      "text/html": [
       "<div>\n",
       "<style scoped>\n",
       "    .dataframe tbody tr th:only-of-type {\n",
       "        vertical-align: middle;\n",
       "    }\n",
       "\n",
       "    .dataframe tbody tr th {\n",
       "        vertical-align: top;\n",
       "    }\n",
       "\n",
       "    .dataframe thead th {\n",
       "        text-align: right;\n",
       "    }\n",
       "</style>\n",
       "<table border=\"1\" class=\"dataframe\">\n",
       "  <thead>\n",
       "    <tr style=\"text-align: right;\">\n",
       "      <th></th>\n",
       "      <th>Identifier</th>\n",
       "      <th>CHROM</th>\n",
       "      <th>POS</th>\n",
       "      <th>REF</th>\n",
       "      <th>ALT</th>\n",
       "      <th>Ref_Trans_VEP</th>\n",
       "      <th>Consequence_VEP</th>\n",
       "      <th>Impact_VEP</th>\n",
       "      <th>EXON</th>\n",
       "      <th>INTRON</th>\n",
       "      <th>...</th>\n",
       "      <th>NCT_SAMPLE_NAME</th>\n",
       "      <th>NCT_Sheet</th>\n",
       "      <th>KGE_RefSeq</th>\n",
       "      <th>NCT_TumorVariantFrequency</th>\n",
       "      <th>NCT_ZYGOSITY</th>\n",
       "      <th>Variant_Rich</th>\n",
       "      <th>HDR_Rich</th>\n",
       "      <th>95%_CI_lower_bound_Rich</th>\n",
       "      <th>95%_CI_upper_bound_Rich</th>\n",
       "      <th>Prev_HDR_Rich</th>\n",
       "    </tr>\n",
       "  </thead>\n",
       "  <tbody>\n",
       "    <tr>\n",
       "      <th>228</th>\n",
       "      <td>13:g.32890598A&gt;C</td>\n",
       "      <td>13</td>\n",
       "      <td>32890598</td>\n",
       "      <td>A</td>\n",
       "      <td>C</td>\n",
       "      <td>NM_000059</td>\n",
       "      <td>start_lost</td>\n",
       "      <td>HIGH</td>\n",
       "      <td>2/27</td>\n",
       "      <td>NaN</td>\n",
       "      <td>...</td>\n",
       "      <td>NaN</td>\n",
       "      <td>NaN</td>\n",
       "      <td>NaN</td>\n",
       "      <td>NaN</td>\n",
       "      <td>NaN</td>\n",
       "      <td>NaN</td>\n",
       "      <td>NaN</td>\n",
       "      <td>NaN</td>\n",
       "      <td>NaN</td>\n",
       "      <td>NaN</td>\n",
       "    </tr>\n",
       "    <tr>\n",
       "      <th>229</th>\n",
       "      <td>13:g.32890598A&gt;G</td>\n",
       "      <td>13</td>\n",
       "      <td>32890598</td>\n",
       "      <td>A</td>\n",
       "      <td>G</td>\n",
       "      <td>NM_000059</td>\n",
       "      <td>start_lost</td>\n",
       "      <td>HIGH</td>\n",
       "      <td>2/27</td>\n",
       "      <td>NaN</td>\n",
       "      <td>...</td>\n",
       "      <td>NaN</td>\n",
       "      <td>NaN</td>\n",
       "      <td>NaN</td>\n",
       "      <td>NaN</td>\n",
       "      <td>NaN</td>\n",
       "      <td>NaN</td>\n",
       "      <td>NaN</td>\n",
       "      <td>NaN</td>\n",
       "      <td>NaN</td>\n",
       "      <td>NaN</td>\n",
       "    </tr>\n",
       "    <tr>\n",
       "      <th>230</th>\n",
       "      <td>13:g.32890598A&gt;T</td>\n",
       "      <td>13</td>\n",
       "      <td>32890598</td>\n",
       "      <td>A</td>\n",
       "      <td>T</td>\n",
       "      <td>NM_000059</td>\n",
       "      <td>start_lost</td>\n",
       "      <td>HIGH</td>\n",
       "      <td>2/27</td>\n",
       "      <td>NaN</td>\n",
       "      <td>...</td>\n",
       "      <td>NaN</td>\n",
       "      <td>NaN</td>\n",
       "      <td>NaN</td>\n",
       "      <td>NaN</td>\n",
       "      <td>NaN</td>\n",
       "      <td>NaN</td>\n",
       "      <td>NaN</td>\n",
       "      <td>NaN</td>\n",
       "      <td>NaN</td>\n",
       "      <td>NaN</td>\n",
       "    </tr>\n",
       "    <tr>\n",
       "      <th>231</th>\n",
       "      <td>13:g.32890599T&gt;A</td>\n",
       "      <td>13</td>\n",
       "      <td>32890599</td>\n",
       "      <td>T</td>\n",
       "      <td>A</td>\n",
       "      <td>NM_000059</td>\n",
       "      <td>start_lost</td>\n",
       "      <td>HIGH</td>\n",
       "      <td>2/27</td>\n",
       "      <td>NaN</td>\n",
       "      <td>...</td>\n",
       "      <td>NaN</td>\n",
       "      <td>NaN</td>\n",
       "      <td>NaN</td>\n",
       "      <td>NaN</td>\n",
       "      <td>NaN</td>\n",
       "      <td>NaN</td>\n",
       "      <td>NaN</td>\n",
       "      <td>NaN</td>\n",
       "      <td>NaN</td>\n",
       "      <td>NaN</td>\n",
       "    </tr>\n",
       "    <tr>\n",
       "      <th>232</th>\n",
       "      <td>13:g.32890599T&gt;C</td>\n",
       "      <td>13</td>\n",
       "      <td>32890599</td>\n",
       "      <td>T</td>\n",
       "      <td>C</td>\n",
       "      <td>NM_000059</td>\n",
       "      <td>start_lost</td>\n",
       "      <td>HIGH</td>\n",
       "      <td>2/27</td>\n",
       "      <td>NaN</td>\n",
       "      <td>...</td>\n",
       "      <td>NaN</td>\n",
       "      <td>NaN</td>\n",
       "      <td>NaN</td>\n",
       "      <td>NaN</td>\n",
       "      <td>NaN</td>\n",
       "      <td>NaN</td>\n",
       "      <td>NaN</td>\n",
       "      <td>NaN</td>\n",
       "      <td>NaN</td>\n",
       "      <td>NaN</td>\n",
       "    </tr>\n",
       "    <tr>\n",
       "      <th>...</th>\n",
       "      <td>...</td>\n",
       "      <td>...</td>\n",
       "      <td>...</td>\n",
       "      <td>...</td>\n",
       "      <td>...</td>\n",
       "      <td>...</td>\n",
       "      <td>...</td>\n",
       "      <td>...</td>\n",
       "      <td>...</td>\n",
       "      <td>...</td>\n",
       "      <td>...</td>\n",
       "      <td>...</td>\n",
       "      <td>...</td>\n",
       "      <td>...</td>\n",
       "      <td>...</td>\n",
       "      <td>...</td>\n",
       "      <td>...</td>\n",
       "      <td>...</td>\n",
       "      <td>...</td>\n",
       "      <td>...</td>\n",
       "      <td>...</td>\n",
       "    </tr>\n",
       "    <tr>\n",
       "      <th>42391</th>\n",
       "      <td>13:g.32972906A&gt;G</td>\n",
       "      <td>13</td>\n",
       "      <td>32972906</td>\n",
       "      <td>A</td>\n",
       "      <td>G</td>\n",
       "      <td>NM_000059</td>\n",
       "      <td>stop_retained_variant</td>\n",
       "      <td>LOW</td>\n",
       "      <td>27/27</td>\n",
       "      <td>NaN</td>\n",
       "      <td>...</td>\n",
       "      <td>NaN</td>\n",
       "      <td>NaN</td>\n",
       "      <td>NaN</td>\n",
       "      <td>NaN</td>\n",
       "      <td>NaN</td>\n",
       "      <td>NaN</td>\n",
       "      <td>NaN</td>\n",
       "      <td>NaN</td>\n",
       "      <td>NaN</td>\n",
       "      <td>NaN</td>\n",
       "    </tr>\n",
       "    <tr>\n",
       "      <th>42392</th>\n",
       "      <td>13:g.32972906A&gt;T</td>\n",
       "      <td>13</td>\n",
       "      <td>32972906</td>\n",
       "      <td>A</td>\n",
       "      <td>T</td>\n",
       "      <td>NM_000059</td>\n",
       "      <td>stop_lost</td>\n",
       "      <td>HIGH</td>\n",
       "      <td>27/27</td>\n",
       "      <td>NaN</td>\n",
       "      <td>...</td>\n",
       "      <td>NaN</td>\n",
       "      <td>NaN</td>\n",
       "      <td>NaN</td>\n",
       "      <td>NaN</td>\n",
       "      <td>NaN</td>\n",
       "      <td>NaN</td>\n",
       "      <td>NaN</td>\n",
       "      <td>NaN</td>\n",
       "      <td>NaN</td>\n",
       "      <td>NaN</td>\n",
       "    </tr>\n",
       "    <tr>\n",
       "      <th>42393</th>\n",
       "      <td>13:g.32972907A&gt;C</td>\n",
       "      <td>13</td>\n",
       "      <td>32972907</td>\n",
       "      <td>A</td>\n",
       "      <td>C</td>\n",
       "      <td>NM_000059</td>\n",
       "      <td>stop_lost</td>\n",
       "      <td>HIGH</td>\n",
       "      <td>27/27</td>\n",
       "      <td>NaN</td>\n",
       "      <td>...</td>\n",
       "      <td>NaN</td>\n",
       "      <td>NaN</td>\n",
       "      <td>NaN</td>\n",
       "      <td>NaN</td>\n",
       "      <td>NaN</td>\n",
       "      <td>NaN</td>\n",
       "      <td>NaN</td>\n",
       "      <td>NaN</td>\n",
       "      <td>NaN</td>\n",
       "      <td>NaN</td>\n",
       "    </tr>\n",
       "    <tr>\n",
       "      <th>42394</th>\n",
       "      <td>13:g.32972907A&gt;G</td>\n",
       "      <td>13</td>\n",
       "      <td>32972907</td>\n",
       "      <td>A</td>\n",
       "      <td>G</td>\n",
       "      <td>NM_000059</td>\n",
       "      <td>stop_retained_variant</td>\n",
       "      <td>LOW</td>\n",
       "      <td>27/27</td>\n",
       "      <td>NaN</td>\n",
       "      <td>...</td>\n",
       "      <td>NaN</td>\n",
       "      <td>NaN</td>\n",
       "      <td>NaN</td>\n",
       "      <td>NaN</td>\n",
       "      <td>NaN</td>\n",
       "      <td>NaN</td>\n",
       "      <td>NaN</td>\n",
       "      <td>NaN</td>\n",
       "      <td>NaN</td>\n",
       "      <td>NaN</td>\n",
       "    </tr>\n",
       "    <tr>\n",
       "      <th>42395</th>\n",
       "      <td>13:g.32972907A&gt;T</td>\n",
       "      <td>13</td>\n",
       "      <td>32972907</td>\n",
       "      <td>A</td>\n",
       "      <td>T</td>\n",
       "      <td>NM_000059</td>\n",
       "      <td>stop_lost</td>\n",
       "      <td>HIGH</td>\n",
       "      <td>27/27</td>\n",
       "      <td>NaN</td>\n",
       "      <td>...</td>\n",
       "      <td>NaN</td>\n",
       "      <td>NaN</td>\n",
       "      <td>NaN</td>\n",
       "      <td>NaN</td>\n",
       "      <td>NaN</td>\n",
       "      <td>NaN</td>\n",
       "      <td>NaN</td>\n",
       "      <td>NaN</td>\n",
       "      <td>NaN</td>\n",
       "      <td>NaN</td>\n",
       "    </tr>\n",
       "  </tbody>\n",
       "</table>\n",
       "<p>31195 rows × 48 columns</p>\n",
       "</div>"
      ],
      "text/plain": [
       "             Identifier  CHROM       POS REF ALT Ref_Trans_VEP  \\\n",
       "228    13:g.32890598A>C     13  32890598   A   C     NM_000059   \n",
       "229    13:g.32890598A>G     13  32890598   A   G     NM_000059   \n",
       "230    13:g.32890598A>T     13  32890598   A   T     NM_000059   \n",
       "231    13:g.32890599T>A     13  32890599   T   A     NM_000059   \n",
       "232    13:g.32890599T>C     13  32890599   T   C     NM_000059   \n",
       "...                 ...    ...       ...  ..  ..           ...   \n",
       "42391  13:g.32972906A>G     13  32972906   A   G     NM_000059   \n",
       "42392  13:g.32972906A>T     13  32972906   A   T     NM_000059   \n",
       "42393  13:g.32972907A>C     13  32972907   A   C     NM_000059   \n",
       "42394  13:g.32972907A>G     13  32972907   A   G     NM_000059   \n",
       "42395  13:g.32972907A>T     13  32972907   A   T     NM_000059   \n",
       "\n",
       "             Consequence_VEP Impact_VEP   EXON INTRON  ...  NCT_SAMPLE_NAME  \\\n",
       "228               start_lost       HIGH   2/27    NaN  ...              NaN   \n",
       "229               start_lost       HIGH   2/27    NaN  ...              NaN   \n",
       "230               start_lost       HIGH   2/27    NaN  ...              NaN   \n",
       "231               start_lost       HIGH   2/27    NaN  ...              NaN   \n",
       "232               start_lost       HIGH   2/27    NaN  ...              NaN   \n",
       "...                      ...        ...    ...    ...  ...              ...   \n",
       "42391  stop_retained_variant        LOW  27/27    NaN  ...              NaN   \n",
       "42392              stop_lost       HIGH  27/27    NaN  ...              NaN   \n",
       "42393              stop_lost       HIGH  27/27    NaN  ...              NaN   \n",
       "42394  stop_retained_variant        LOW  27/27    NaN  ...              NaN   \n",
       "42395              stop_lost       HIGH  27/27    NaN  ...              NaN   \n",
       "\n",
       "      NCT_Sheet KGE_RefSeq NCT_TumorVariantFrequency NCT_ZYGOSITY  \\\n",
       "228         NaN        NaN                       NaN          NaN   \n",
       "229         NaN        NaN                       NaN          NaN   \n",
       "230         NaN        NaN                       NaN          NaN   \n",
       "231         NaN        NaN                       NaN          NaN   \n",
       "232         NaN        NaN                       NaN          NaN   \n",
       "...         ...        ...                       ...          ...   \n",
       "42391       NaN        NaN                       NaN          NaN   \n",
       "42392       NaN        NaN                       NaN          NaN   \n",
       "42393       NaN        NaN                       NaN          NaN   \n",
       "42394       NaN        NaN                       NaN          NaN   \n",
       "42395       NaN        NaN                       NaN          NaN   \n",
       "\n",
       "       Variant_Rich  HDR_Rich  95%_CI_lower_bound_Rich  \\\n",
       "228             NaN       NaN                      NaN   \n",
       "229             NaN       NaN                      NaN   \n",
       "230             NaN       NaN                      NaN   \n",
       "231             NaN       NaN                      NaN   \n",
       "232             NaN       NaN                      NaN   \n",
       "...             ...       ...                      ...   \n",
       "42391           NaN       NaN                      NaN   \n",
       "42392           NaN       NaN                      NaN   \n",
       "42393           NaN       NaN                      NaN   \n",
       "42394           NaN       NaN                      NaN   \n",
       "42395           NaN       NaN                      NaN   \n",
       "\n",
       "      95%_CI_upper_bound_Rich Prev_HDR_Rich  \n",
       "228                       NaN           NaN  \n",
       "229                       NaN           NaN  \n",
       "230                       NaN           NaN  \n",
       "231                       NaN           NaN  \n",
       "232                       NaN           NaN  \n",
       "...                       ...           ...  \n",
       "42391                     NaN           NaN  \n",
       "42392                     NaN           NaN  \n",
       "42393                     NaN           NaN  \n",
       "42394                     NaN           NaN  \n",
       "42395                     NaN           NaN  \n",
       "\n",
       "[31195 rows x 48 columns]"
      ]
     },
     "execution_count": 6,
     "metadata": {},
     "output_type": "execute_result"
    }
   ],
   "source": [
    "coding_df = df.loc[df['Protein_position'].notnull()].copy()\n",
    "if df.iloc[0]['Strand'] == '-':\n",
    "    coding_df.sort_values(by = ['Protein_position']).sort_values(by = ['POS'], ascending = False, ignore_index = True)\n",
    "elif df.iloc[0]['Strand'] == '+':\n",
    "    coding_df.sort_values(by = ['Protein_position']).sort_values(by = ['POS'], ascending = True, ignore_index = True)\n",
    "\n",
    "coding_df['Protein_position'] = coding_df.loc[:,'Protein_position'].astype(int)\n",
    "coding_df['POS'] = coding_df.loc[:,'POS'].astype(int)\n",
    "coding_df#.columns#[['CHROM', 'POS', 'REF', 'ALT', 'Protein_position']]"
   ]
  },
  {
   "cell_type": "code",
   "execution_count": 7,
   "metadata": {
    "scrolled": true
   },
   "outputs": [],
   "source": [
    "# create groups\n",
    "stop_df = coding_df.loc[coding_df['Consequence_VEP'] == 'stop_gained']\n",
    "cadd_phred_coding = coding_df.groupby('Protein_position')[['CADD_PHRED_VEP']].mean()\n",
    "cadd_raw_coding = coding_df.groupby('Protein_position')[['CADD_RAW_VEP']].mean()"
   ]
  },
  {
   "cell_type": "code",
   "execution_count": 10,
   "metadata": {},
   "outputs": [],
   "source": [
    "# search for intron begin\n",
    "intron_begin = []\n",
    "for el in list(coding_df['POS'].unique()):\n",
    "    if (el+1) not in list(coding_df['POS'].unique()):\n",
    "        intron_begin.append(el+.5)\n",
    "    else:\n",
    "        continue\n",
    "#intron_begin"
   ]
  },
  {
   "cell_type": "markdown",
   "metadata": {},
   "source": [
    "# Begin Easy Visualization"
   ]
  },
  {
   "cell_type": "code",
   "execution_count": 66,
   "metadata": {},
   "outputs": [],
   "source": [
    "sns.set_style('ticks')"
   ]
  },
  {
   "cell_type": "code",
   "execution_count": 70,
   "metadata": {},
   "outputs": [
    {
     "data": {
      "image/png": "[encoded data removed]",
      "text/plain": [
       "<Figure size 720x432 with 1 Axes>"
      ]
     },
     "metadata": {},
     "output_type": "display_data"
    }
   ],
   "source": [
    "plt.figure(figsize = (10, 6))\n",
    "#rcp['font.size'] = 12\n",
    "sns.scatterplot(x = coding_df.CADD_PHRED_VEP, y = coding_df.CADD_RAW_VEP)\n",
    "plt.title(('CADD Phred Score vs. CADD Raw Score by VEP in ' + gene_name.capitalize()));"
   ]
  },
  {
   "cell_type": "code",
   "execution_count": 71,
   "metadata": {
    "scrolled": false
   },
   "outputs": [
    {
     "data": {
      "image/png": "[encoded data removed]",
      "text/plain": [
       "<Figure size 720x432 with 1 Axes>"
      ]
     },
     "metadata": {},
     "output_type": "display_data"
    }
   ],
   "source": [
    "plt.figure(figsize = (10, 6))\n",
    "rcp['font.size'] = 12\n",
    "plt.plot(cadd_phred_coding, marker = 'o', ms = 2)\n",
    "plt.plot(cadd_raw_coding, marker = 'x', ms = 3)\n",
    "plt.xlabel('Protein Position')\n",
    "plt.ylabel('CADD Phred/Raw Score (by VEP)')\n",
    "plt.title(('CADD Phred Score and CADD Raw Score by VEP in ' + gene_name.capitalize()))\n",
    "plt.legend(['CADD Phred Score', 'CADD Raw Score'], bbox_to_anchor = (1.01, 1), borderaxespad = 0);\n"
   ]
  },
  {
   "cell_type": "code",
   "execution_count": 195,
   "metadata": {
    "scrolled": true
   },
   "outputs": [],
   "source": [
    "posis = list(coding_df['POS'].unique())#.sort(reverse = True)#.loc[df_coding['Consequence_VEP'] == 'stop_gained'])\n",
    "posis.sort()\n",
    "#posis[:10]"
   ]
  },
  {
   "cell_type": "code",
   "execution_count": 120,
   "metadata": {},
   "outputs": [
    {
     "data": {
      "text/plain": [
       "[<matplotlib.lines.Line2D at 0x170c8ea78e0>]"
      ]
     },
     "execution_count": 120,
     "metadata": {},
     "output_type": "execute_result"
    },
    {
     "data": {
      "image/png": "[encoded data removed]",
      "text/plain": [
       "<Figure size 1080x432 with 1 Axes>"
      ]
     },
     "metadata": {},
     "output_type": "display_data"
    }
   ],
   "source": [
    "plt.figure(figsize = (15, 6))\n",
    "plt.plot(coding_df.POS, coding_df.CADD_PHRED_VEP, 'bo')"
   ]
  },
  {
   "cell_type": "markdown",
   "metadata": {},
   "source": [
    "# Start with grouped nuc/protein positions"
   ]
  },
  {
   "cell_type": "code",
   "execution_count": 343,
   "metadata": {},
   "outputs": [],
   "source": [
    "stop_df = coding_df.loc[coding_df['Consequence_VEP'] == 'stop_gained'].copy()\n",
    "stop_df['new_stop'] = 10\n",
    "new_coding_df = coding_df.merge(stop_df, how = 'outer')\n",
    "new_coding_df['new_stop'] = new_coding_df['new_stop'].fillna(0).astype(int)\n",
    "#new_coding_df.loc[new_coding_df['Consequence_VEP'] == 'stop_gained']"
   ]
  },
  {
   "cell_type": "code",
   "execution_count": 345,
   "metadata": {},
   "outputs": [],
   "source": [
    "# group by nucleic and protein position\n",
    "nucpos_group = new_coding_df.groupby('POS')\n",
    "protpos_group = new_coding_df.groupby('Protein_position')\n",
    "#list(nucpos_group)[0][0]\n",
    "#nucpos_group.get_group((32890598))\n",
    "#nucpos_group.get_group(32890598).iloc[1]['CADD_PHRED_VEP']"
   ]
  },
  {
   "cell_type": "code",
   "execution_count": 346,
   "metadata": {},
   "outputs": [],
   "source": [
    "# seach for highest variant appearance at nucleic position\n",
    "for gr, df in nucpos_group:\n",
    "    if len(df) > 6:\n",
    "        print(gr)"
   ]
  },
  {
   "cell_type": "code",
   "execution_count": 347,
   "metadata": {
    "scrolled": true
   },
   "outputs": [],
   "source": [
    "# create subgroups for plotting by each variant\n",
    "cadd_gr0 = []\n",
    "cadd_gr1 = []\n",
    "cadd_gr2 = []\n",
    "cadd_gr3 = []\n",
    "cadd_gr4 = []\n",
    "cadd_gr5 = []\n",
    "cadd_groups = [cadd_gr0, cadd_gr1, cadd_gr2, cadd_gr3, cadd_gr4, cadd_gr5]\n",
    "\n",
    "for nucpos, df in list(nucpos_group):\n",
    "    cadd_gr0.append(df.iloc[0])\n",
    "    if len(df) > 1:\n",
    "        cadd_gr1.append(df.iloc[1])\n",
    "    else:\n",
    "        pass\n",
    "    if len(df) > 2:\n",
    "        cadd_gr2.append(df.iloc[2])\n",
    "    else:\n",
    "        pass\n",
    "    if len(df) > 3:\n",
    "        cadd_gr3.append(df.iloc[3])\n",
    "    else:\n",
    "        pass\n",
    "    if len(df) > 4:\n",
    "        cadd_gr4.append(df.iloc[4])\n",
    "    else:\n",
    "        pass\n",
    "    if len(df) > 5:\n",
    "        cadd_gr5.append(df.iloc[5])\n",
    "    else:\n",
    "        pass\n",
    "\n",
    "# create dataframe for each list\n",
    "cadd_gr0_df = pd.DataFrame(cadd_gr0)\n",
    "cadd_gr1_df = pd.DataFrame(cadd_gr1)\n",
    "cadd_gr2_df = pd.DataFrame(cadd_gr2)\n",
    "cadd_gr3_df = pd.DataFrame(cadd_gr3)\n",
    "cadd_gr4_df = pd.DataFrame(cadd_gr4)\n",
    "cadd_gr5_df = pd.DataFrame(cadd_gr5)\n",
    "\n",
    "#cadd_gr5_df"
   ]
  },
  {
   "cell_type": "code",
   "execution_count": 356,
   "metadata": {},
   "outputs": [],
   "source": [
    "m1 = pd.merge(cadd_gr0_df, cadd_gr1_df, on = ['CHROM', 'POS', 'REF'], suffixes = ('_gr0', '_gr1'), how = 'outer')\n",
    "m2 = pd.merge(m1, cadd_gr2_df, on = ['CHROM', 'POS', 'REF'], how = 'outer').rename(columns = {'CADD_PHRED_VEP':'CADD_PHRED_VEP_gr2', 'ALT':'ALT_gr2', 'Protein_position':'Protein_position_gr2', 'Consequence_VEP':'Consequence_VEP_gr2', 'new_stop':'new_stop_gr2'})\n",
    "m3 = pd.merge(m2, cadd_gr3_df, on = ['CHROM', 'POS', 'REF'], how = 'outer').rename(columns = {'CADD_PHRED_VEP':'CADD_PHRED_VEP_gr3', 'ALT':'ALT_gr3', 'Protein_position':'Protein_position_gr3', 'Consequence_VEP':'Consequence_VEP_gr3', 'new_stop':'new_stop_gr3'})\n",
    "m4 = pd.merge(m3, cadd_gr4_df, on = ['CHROM', 'POS', 'REF'], how = 'outer').rename(columns = {'CADD_PHRED_VEP':'CADD_PHRED_VEP_gr4', 'ALT':'ALT_gr4', 'Protein_position':'Protein_position_gr4', 'Consequence_VEP':'Consequence_VEP_gr4', 'new_stop':'new_stop_gr4'})\n",
    "m5 = pd.merge(m4, cadd_gr5_df, on = ['CHROM', 'POS', 'REF'], how = 'outer').rename(columns = {'CADD_PHRED_VEP':'CADD_PHRED_VEP_gr5', 'ALT':'ALT_gr5', 'Protein_position':'Protein_position_gr5', 'Consequence_VEP':'Consequence_VEP_gr5', 'new_stop':'new_stop_gr5'})\n",
    "#m5[['POS', 'REF', 'ALT_gr0', 'CADD_PHRED_VEP_gr0', 'ALT_gr1', 'CADD_PHRED_VEP_gr1', 'ALT_gr2', 'CADD_PHRED_VEP_gr2', 'ALT_gr3', 'CADD_PHRED_VEP_gr3', 'ALT_gr4', 'CADD_PHRED_VEP_gr4', 'ALT_gr5', 'CADD_PHRED_VEP_gr5', 'new_stop_gr5']]\n",
    "m5[['new_stop_gr0', 'new_stop_gr1', 'new_stop_gr2', 'new_stop_gr3', 'new_stop_gr4', 'new_stop_gr5']] = m5[['new_stop_gr0', 'new_stop_gr1', 'new_stop_gr2', 'new_stop_gr3', 'new_stop_gr4', 'new_stop_gr5']].fillna(0).astype(int)"
   ]
  },
  {
   "cell_type": "code",
   "execution_count": 357,
   "metadata": {},
   "outputs": [],
   "source": [
    "m5.sort_values(by = 'POS', ignore_index = True, inplace = True)\n",
    "m5 = m5[80:100]"
   ]
  },
  {
   "cell_type": "markdown",
   "metadata": {},
   "source": [
    "# Stacked Bar Plots"
   ]
  },
  {
   "cell_type": "code",
   "execution_count": 326,
   "metadata": {
    "scrolled": true
   },
   "outputs": [
    {
     "data": {
      "text/plain": [
       "<Figure size 1152x720 with 0 Axes>"
      ]
     },
     "metadata": {},
     "output_type": "display_data"
    },
    {
     "data": {
      "image/png": "[encoded data removed]",
      "text/plain": [
       "<Figure size 432x288 with 1 Axes>"
      ]
     },
     "metadata": {},
     "output_type": "display_data"
    }
   ],
   "source": [
    "plt.figure(figsize = (16, 10))\n",
    "m5[['CADD_PHRED_VEP_gr0', 'CADD_PHRED_VEP_gr1', 'CADD_PHRED_VEP_gr2', 'CADD_PHRED_VEP_gr3', 'CADD_PHRED_VEP_gr4', 'CADD_PHRED_VEP_gr5']].plot(kind = 'bar', stacked = True)\n",
    "plt.legend(bbox_to_anchor = (1.01, 1), borderaxespad = 0);\n"
   ]
  },
  {
   "cell_type": "code",
   "execution_count": 327,
   "metadata": {},
   "outputs": [
    {
     "data": {
      "application/vnd.plotly.v1+json": {
       "config": {
        "plotlyServerURL": "https://plot.ly"
       },
       "data": [
        {
         "hovertemplate": "CADD Score Phred = %{y}}",
         "name": "zero",
         "offsetgroup": "0",
         "text": [
          "A",
          "C",
          "C",
          "A",
          "A",
          "A",
          "A",
          "A",
          "C",
          "C",
          "A",
          "A",
          "A",
          "A",
          "A",
          "A",
          "A",
          "A",
          "C",
          "C"
         ],
         "type": "bar",
         "x": [
          32893226,
          32893227,
          32893228,
          32893229,
          32893230,
          32893231,
          32893232,
          32893233,
          32893234,
          32893235,
          32893236,
          32893237,
          32893238,
          32893239,
          32893240,
          32893241,
          32893242,
          32893243,
          32893244,
          32893245
         ],
         "y": [
          25.6,
          11.14,
          26.4,
          26.1,
          23,
          25.1,
          27.2,
          11.13,
          23.5,
          25.1,
          22.9,
          28.6,
          39,
          38,
          26.4,
          26.1,
          27.4,
          26.7,
          32,
          21.6
         ]
        },
        {
         "base": [
          25.6,
          11.14,
          26.4,
          26.1,
          23,
          25.1,
          27.2,
          11.13,
          23.5,
          25.1,
          22.9,
          28.6,
          39,
          38,
          26.4,
          26.1,
          27.4,
          26.7,
          32,
          21.6
         ],
         "hovertemplate": "CADD Score Phred = %{y}}",
         "name": "one",
         "offsetgroup": "0",
         "text": [
          "C",
          "G",
          "G",
          "C",
          "C",
          "G",
          "C",
          "C",
          "G",
          "G",
          "C",
          "C",
          "C",
          "C",
          "C",
          "C",
          "C",
          "C",
          "G",
          "G"
         ],
         "type": "bar",
         "x": [
          32893226,
          32893227,
          32893228,
          32893229,
          32893230,
          32893231,
          32893232,
          32893233,
          32893234,
          32893235,
          32893236,
          32893237,
          32893238,
          32893239,
          32893240,
          32893241,
          32893242,
          32893243,
          32893244,
          32893245
         ],
         "y": [
          23.7,
          23.3,
          26.2,
          25.8,
          9.937,
          24.6,
          27.7,
          11.27,
          23.7,
          24.8,
          9.659,
          26.7,
          27.9,
          28.8,
          26.6,
          27.3,
          13.07,
          24.7,
          26.9,
          11
         ]
        },
        {
         "base": [
          49.3,
          34.44,
          52.599999999999994,
          51.900000000000006,
          32.937,
          49.7,
          54.9,
          22.4,
          47.2,
          49.900000000000006,
          32.559,
          55.3,
          66.9,
          66.8,
          53,
          53.400000000000006,
          40.47,
          51.4,
          58.9,
          32.6
         ],
         "hovertemplate": "CADD Score Phred = %{y}}",
         "name": "two",
         "offsetgroup": "0",
         "text": [
          "G",
          "T",
          "T",
          "T",
          "G",
          "T",
          "G",
          "G",
          "T",
          "T",
          "G",
          "G",
          "T",
          "T",
          "G",
          "G",
          "G",
          "T",
          "T",
          "T"
         ],
         "type": "bar",
         "x": [
          32893226,
          32893227,
          32893228,
          32893229,
          32893230,
          32893231,
          32893232,
          32893233,
          32893234,
          32893235,
          32893236,
          32893237,
          32893238,
          32893239,
          32893240,
          32893241,
          32893242,
          32893243,
          32893244,
          32893245
         ],
         "y": [
          25.3,
          11.67,
          26.4,
          27.4,
          23,
          25.4,
          27.6,
          11.07,
          23.9,
          26,
          22.9,
          27.1,
          28.2,
          29.6,
          26.3,
          27.3,
          26.5,
          39,
          32,
          22.3
         ]
        },
        {
         "base": [
          74.6,
          46.11,
          79,
          79.30000000000001,
          55.937,
          75.1,
          82.5,
          33.47,
          71.1,
          75.9,
          55.458999999999996,
          82.4,
          95.10000000000001,
          96.4,
          79.3,
          80.7,
          66.97,
          90.4,
          90.9,
          54.900000000000006
         ],
         "hovertemplate": "CADD Score Phred = %{y}}",
         "name": "three",
         "offsetgroup": "0",
         "text": [
          "nan",
          "nan",
          "nan",
          "nan",
          "nan",
          "nan",
          "nan",
          "nan",
          "nan",
          "nan",
          "nan",
          "nan",
          "nan",
          "nan",
          "nan",
          "nan",
          "nan",
          "nan",
          "nan",
          "nan"
         ],
         "type": "bar",
         "x": [
          32893226,
          32893227,
          32893228,
          32893229,
          32893230,
          32893231,
          32893232,
          32893233,
          32893234,
          32893235,
          32893236,
          32893237,
          32893238,
          32893239,
          32893240,
          32893241,
          32893242,
          32893243,
          32893244,
          32893245
         ],
         "y": [
          null,
          null,
          null,
          null,
          null,
          null,
          null,
          null,
          null,
          null,
          null,
          null,
          null,
          null,
          null,
          null,
          null,
          null,
          null,
          null
         ]
        },
        {
         "base": [
          null,
          null,
          null,
          null,
          null,
          null,
          null,
          null,
          null,
          null,
          null,
          null,
          null,
          null,
          null,
          null,
          null,
          null,
          null,
          null
         ],
         "hovertemplate": "CADD Score Phred = %{y}}",
         "name": "four",
         "offsetgroup": "0",
         "text": [
          "nan",
          "nan",
          "nan",
          "nan",
          "nan",
          "nan",
          "nan",
          "nan",
          "nan",
          "nan",
          "nan",
          "nan",
          "nan",
          "nan",
          "nan",
          "nan",
          "nan",
          "nan",
          "nan",
          "nan"
         ],
         "type": "bar",
         "x": [
          32893226,
          32893227,
          32893228,
          32893229,
          32893230,
          32893231,
          32893232,
          32893233,
          32893234,
          32893235,
          32893236,
          32893237,
          32893238,
          32893239,
          32893240,
          32893241,
          32893242,
          32893243,
          32893244,
          32893245
         ],
         "y": [
          null,
          null,
          null,
          null,
          null,
          null,
          null,
          null,
          null,
          null,
          null,
          null,
          null,
          null,
          null,
          null,
          null,
          null,
          null,
          null
         ]
        },
        {
         "base": [
          null,
          null,
          null,
          null,
          null,
          null,
          null,
          null,
          null,
          null,
          null,
          null,
          null,
          null,
          null,
          null,
          null,
          null,
          null,
          null
         ],
         "hovertemplate": "CADD Score Phred = %{y}}",
         "name": "five",
         "offsetgroup": "0",
         "text": [
          "nan",
          "nan",
          "nan",
          "nan",
          "nan",
          "nan",
          "nan",
          "nan",
          "nan",
          "nan",
          "nan",
          "nan",
          "nan",
          "nan",
          "nan",
          "nan",
          "nan",
          "nan",
          "nan",
          "nan"
         ],
         "type": "bar",
         "x": [
          32893226,
          32893227,
          32893228,
          32893229,
          32893230,
          32893231,
          32893232,
          32893233,
          32893234,
          32893235,
          32893236,
          32893237,
          32893238,
          32893239,
          32893240,
          32893241,
          32893242,
          32893243,
          32893244,
          32893245
         ],
         "y": [
          null,
          null,
          null,
          null,
          null,
          null,
          null,
          null,
          null,
          null,
          null,
          null,
          null,
          null,
          null,
          null,
          null,
          null,
          null,
          null
         ]
        }
       ],
       "layout": {
        "template": {
         "data": {
          "bar": [
           {
            "error_x": {
             "color": "#2a3f5f"
            },
            "error_y": {
             "color": "#2a3f5f"
            },
            "marker": {
             "line": {
              "color": "#E5ECF6",
              "width": 0.5
             }
            },
            "type": "bar"
           }
          ],
          "barpolar": [
           {
            "marker": {
             "line": {
              "color": "#E5ECF6",
              "width": 0.5
             }
            },
            "type": "barpolar"
           }
          ],
          "carpet": [
           {
            "aaxis": {
             "endlinecolor": "#2a3f5f",
             "gridcolor": "white",
             "linecolor": "white",
             "minorgridcolor": "white",
             "startlinecolor": "#2a3f5f"
            },
            "baxis": {
             "endlinecolor": "#2a3f5f",
             "gridcolor": "white",
             "linecolor": "white",
             "minorgridcolor": "white",
             "startlinecolor": "#2a3f5f"
            },
            "type": "carpet"
           }
          ],
          "choropleth": [
           {
            "colorbar": {
             "outlinewidth": 0,
             "ticks": ""
            },
            "type": "choropleth"
           }
          ],
          "contour": [
           {
            "colorbar": {
             "outlinewidth": 0,
             "ticks": ""
            },
            "colorscale": [
             [
              0,
              "#0d0887"
             ],
             [
              0.1111111111111111,
              "#46039f"
             ],
             [
              0.2222222222222222,
              "#7201a8"
             ],
             [
              0.3333333333333333,
              "#9c179e"
             ],
             [
              0.4444444444444444,
              "#bd3786"
             ],
             [
              0.5555555555555556,
              "#d8576b"
             ],
             [
              0.6666666666666666,
              "#ed7953"
             ],
             [
              0.7777777777777778,
              "#fb9f3a"
             ],
             [
              0.8888888888888888,
              "#fdca26"
             ],
             [
              1,
              "#f0f921"
             ]
            ],
            "type": "contour"
           }
          ],
          "contourcarpet": [
           {
            "colorbar": {
             "outlinewidth": 0,
             "ticks": ""
            },
            "type": "contourcarpet"
           }
          ],
          "heatmap": [
           {
            "colorbar": {
             "outlinewidth": 0,
             "ticks": ""
            },
            "colorscale": [
             [
              0,
              "#0d0887"
             ],
             [
              0.1111111111111111,
              "#46039f"
             ],
             [
              0.2222222222222222,
              "#7201a8"
             ],
             [
              0.3333333333333333,
              "#9c179e"
             ],
             [
              0.4444444444444444,
              "#bd3786"
             ],
             [
              0.5555555555555556,
              "#d8576b"
             ],
             [
              0.6666666666666666,
              "#ed7953"
             ],
             [
              0.7777777777777778,
              "#fb9f3a"
             ],
             [
              0.8888888888888888,
              "#fdca26"
             ],
             [
              1,
              "#f0f921"
             ]
            ],
            "type": "heatmap"
           }
          ],
          "heatmapgl": [
           {
            "colorbar": {
             "outlinewidth": 0,
             "ticks": ""
            },
            "colorscale": [
             [
              0,
              "#0d0887"
             ],
             [
              0.1111111111111111,
              "#46039f"
             ],
             [
              0.2222222222222222,
              "#7201a8"
             ],
             [
              0.3333333333333333,
              "#9c179e"
             ],
             [
              0.4444444444444444,
              "#bd3786"
             ],
             [
              0.5555555555555556,
              "#d8576b"
             ],
             [
              0.6666666666666666,
              "#ed7953"
             ],
             [
              0.7777777777777778,
              "#fb9f3a"
             ],
             [
              0.8888888888888888,
              "#fdca26"
             ],
             [
              1,
              "#f0f921"
             ]
            ],
            "type": "heatmapgl"
           }
          ],
          "histogram": [
           {
            "marker": {
             "colorbar": {
              "outlinewidth": 0,
              "ticks": ""
             }
            },
            "type": "histogram"
           }
          ],
          "histogram2d": [
           {
            "colorbar": {
             "outlinewidth": 0,
             "ticks": ""
            },
            "colorscale": [
             [
              0,
              "#0d0887"
             ],
             [
              0.1111111111111111,
              "#46039f"
             ],
             [
              0.2222222222222222,
              "#7201a8"
             ],
             [
              0.3333333333333333,
              "#9c179e"
             ],
             [
              0.4444444444444444,
              "#bd3786"
             ],
             [
              0.5555555555555556,
              "#d8576b"
             ],
             [
              0.6666666666666666,
              "#ed7953"
             ],
             [
              0.7777777777777778,
              "#fb9f3a"
             ],
             [
              0.8888888888888888,
              "#fdca26"
             ],
             [
              1,
              "#f0f921"
             ]
            ],
            "type": "histogram2d"
           }
          ],
          "histogram2dcontour": [
           {
            "colorbar": {
             "outlinewidth": 0,
             "ticks": ""
            },
            "colorscale": [
             [
              0,
              "#0d0887"
             ],
             [
              0.1111111111111111,
              "#46039f"
             ],
             [
              0.2222222222222222,
              "#7201a8"
             ],
             [
              0.3333333333333333,
              "#9c179e"
             ],
             [
              0.4444444444444444,
              "#bd3786"
             ],
             [
              0.5555555555555556,
              "#d8576b"
             ],
             [
              0.6666666666666666,
              "#ed7953"
             ],
             [
              0.7777777777777778,
              "#fb9f3a"
             ],
             [
              0.8888888888888888,
              "#fdca26"
             ],
             [
              1,
              "#f0f921"
             ]
            ],
            "type": "histogram2dcontour"
           }
          ],
          "mesh3d": [
           {
            "colorbar": {
             "outlinewidth": 0,
             "ticks": ""
            },
            "type": "mesh3d"
           }
          ],
          "parcoords": [
           {
            "line": {
             "colorbar": {
              "outlinewidth": 0,
              "ticks": ""
             }
            },
            "type": "parcoords"
           }
          ],
          "pie": [
           {
            "automargin": true,
            "type": "pie"
           }
          ],
          "scatter": [
           {
            "marker": {
             "colorbar": {
              "outlinewidth": 0,
              "ticks": ""
             }
            },
            "type": "scatter"
           }
          ],
          "scatter3d": [
           {
            "line": {
             "colorbar": {
              "outlinewidth": 0,
              "ticks": ""
             }
            },
            "marker": {
             "colorbar": {
              "outlinewidth": 0,
              "ticks": ""
             }
            },
            "type": "scatter3d"
           }
          ],
          "scattercarpet": [
           {
            "marker": {
             "colorbar": {
              "outlinewidth": 0,
              "ticks": ""
             }
            },
            "type": "scattercarpet"
           }
          ],
          "scattergeo": [
           {
            "marker": {
             "colorbar": {
              "outlinewidth": 0,
              "ticks": ""
             }
            },
            "type": "scattergeo"
           }
          ],
          "scattergl": [
           {
            "marker": {
             "colorbar": {
              "outlinewidth": 0,
              "ticks": ""
             }
            },
            "type": "scattergl"
           }
          ],
          "scattermapbox": [
           {
            "marker": {
             "colorbar": {
              "outlinewidth": 0,
              "ticks": ""
             }
            },
            "type": "scattermapbox"
           }
          ],
          "scatterpolar": [
           {
            "marker": {
             "colorbar": {
              "outlinewidth": 0,
              "ticks": ""
             }
            },
            "type": "scatterpolar"
           }
          ],
          "scatterpolargl": [
           {
            "marker": {
             "colorbar": {
              "outlinewidth": 0,
              "ticks": ""
             }
            },
            "type": "scatterpolargl"
           }
          ],
          "scatterternary": [
           {
            "marker": {
             "colorbar": {
              "outlinewidth": 0,
              "ticks": ""
             }
            },
            "type": "scatterternary"
           }
          ],
          "surface": [
           {
            "colorbar": {
             "outlinewidth": 0,
             "ticks": ""
            },
            "colorscale": [
             [
              0,
              "#0d0887"
             ],
             [
              0.1111111111111111,
              "#46039f"
             ],
             [
              0.2222222222222222,
              "#7201a8"
             ],
             [
              0.3333333333333333,
              "#9c179e"
             ],
             [
              0.4444444444444444,
              "#bd3786"
             ],
             [
              0.5555555555555556,
              "#d8576b"
             ],
             [
              0.6666666666666666,
              "#ed7953"
             ],
             [
              0.7777777777777778,
              "#fb9f3a"
             ],
             [
              0.8888888888888888,
              "#fdca26"
             ],
             [
              1,
              "#f0f921"
             ]
            ],
            "type": "surface"
           }
          ],
          "table": [
           {
            "cells": {
             "fill": {
              "color": "#EBF0F8"
             },
             "line": {
              "color": "white"
             }
            },
            "header": {
             "fill": {
              "color": "#C8D4E3"
             },
             "line": {
              "color": "white"
             }
            },
            "type": "table"
           }
          ]
         },
         "layout": {
          "annotationdefaults": {
           "arrowcolor": "#2a3f5f",
           "arrowhead": 0,
           "arrowwidth": 1
          },
          "autotypenumbers": "strict",
          "coloraxis": {
           "colorbar": {
            "outlinewidth": 0,
            "ticks": ""
           }
          },
          "colorscale": {
           "diverging": [
            [
             0,
             "#8e0152"
            ],
            [
             0.1,
             "#c51b7d"
            ],
            [
             0.2,
             "#de77ae"
            ],
            [
             0.3,
             "#f1b6da"
            ],
            [
             0.4,
             "#fde0ef"
            ],
            [
             0.5,
             "#f7f7f7"
            ],
            [
             0.6,
             "#e6f5d0"
            ],
            [
             0.7,
             "#b8e186"
            ],
            [
             0.8,
             "#7fbc41"
            ],
            [
             0.9,
             "#4d9221"
            ],
            [
             1,
             "#276419"
            ]
           ],
           "sequential": [
            [
             0,
             "#0d0887"
            ],
            [
             0.1111111111111111,
             "#46039f"
            ],
            [
             0.2222222222222222,
             "#7201a8"
            ],
            [
             0.3333333333333333,
             "#9c179e"
            ],
            [
             0.4444444444444444,
             "#bd3786"
            ],
            [
             0.5555555555555556,
             "#d8576b"
            ],
            [
             0.6666666666666666,
             "#ed7953"
            ],
            [
             0.7777777777777778,
             "#fb9f3a"
            ],
            [
             0.8888888888888888,
             "#fdca26"
            ],
            [
             1,
             "#f0f921"
            ]
           ],
           "sequentialminus": [
            [
             0,
             "#0d0887"
            ],
            [
             0.1111111111111111,
             "#46039f"
            ],
            [
             0.2222222222222222,
             "#7201a8"
            ],
            [
             0.3333333333333333,
             "#9c179e"
            ],
            [
             0.4444444444444444,
             "#bd3786"
            ],
            [
             0.5555555555555556,
             "#d8576b"
            ],
            [
             0.6666666666666666,
             "#ed7953"
            ],
            [
             0.7777777777777778,
             "#fb9f3a"
            ],
            [
             0.8888888888888888,
             "#fdca26"
            ],
            [
             1,
             "#f0f921"
            ]
           ]
          },
          "colorway": [
           "#636efa",
           "#EF553B",
           "#00cc96",
           "#ab63fa",
           "#FFA15A",
           "#19d3f3",
           "#FF6692",
           "#B6E880",
           "#FF97FF",
           "#FECB52"
          ],
          "font": {
           "color": "#2a3f5f"
          },
          "geo": {
           "bgcolor": "white",
           "lakecolor": "white",
           "landcolor": "#E5ECF6",
           "showlakes": true,
           "showland": true,
           "subunitcolor": "white"
          },
          "hoverlabel": {
           "align": "left"
          },
          "hovermode": "closest",
          "mapbox": {
           "style": "light"
          },
          "paper_bgcolor": "white",
          "plot_bgcolor": "#E5ECF6",
          "polar": {
           "angularaxis": {
            "gridcolor": "white",
            "linecolor": "white",
            "ticks": ""
           },
           "bgcolor": "#E5ECF6",
           "radialaxis": {
            "gridcolor": "white",
            "linecolor": "white",
            "ticks": ""
           }
          },
          "scene": {
           "xaxis": {
            "backgroundcolor": "#E5ECF6",
            "gridcolor": "white",
            "gridwidth": 2,
            "linecolor": "white",
            "showbackground": true,
            "ticks": "",
            "zerolinecolor": "white"
           },
           "yaxis": {
            "backgroundcolor": "#E5ECF6",
            "gridcolor": "white",
            "gridwidth": 2,
            "linecolor": "white",
            "showbackground": true,
            "ticks": "",
            "zerolinecolor": "white"
           },
           "zaxis": {
            "backgroundcolor": "#E5ECF6",
            "gridcolor": "white",
            "gridwidth": 2,
            "linecolor": "white",
            "showbackground": true,
            "ticks": "",
            "zerolinecolor": "white"
           }
          },
          "shapedefaults": {
           "line": {
            "color": "#2a3f5f"
           }
          },
          "ternary": {
           "aaxis": {
            "gridcolor": "white",
            "linecolor": "white",
            "ticks": ""
           },
           "baxis": {
            "gridcolor": "white",
            "linecolor": "white",
            "ticks": ""
           },
           "bgcolor": "#E5ECF6",
           "caxis": {
            "gridcolor": "white",
            "linecolor": "white",
            "ticks": ""
           }
          },
          "title": {
           "x": 0.05
          },
          "xaxis": {
           "automargin": true,
           "gridcolor": "white",
           "linecolor": "white",
           "ticks": "",
           "title": {
            "standoff": 15
           },
           "zerolinecolor": "white",
           "zerolinewidth": 2
          },
          "yaxis": {
           "automargin": true,
           "gridcolor": "white",
           "linecolor": "white",
           "ticks": "",
           "title": {
            "standoff": 15
           },
           "zerolinecolor": "white",
           "zerolinewidth": 2
          }
         }
        },
        "title": {
         "text": "CADD Phred Scores Stacked"
        },
        "yaxis": {
         "title": {
          "text": "CADD Phred Score"
         }
        }
       }
      },
      "text/html": [
       "<div>                            <div id=\"f43cdbd7-3163-494d-9187-679d197bd45f\" class=\"plotly-graph-div\" style=\"height:525px; width:100%;\"></div>            <script type=\"text/javascript\">                require([\"plotly\"], function(Plotly) {                    window.PLOTLYENV=window.PLOTLYENV || {};                                    if (document.getElementById(\"f43cdbd7-3163-494d-9187-679d197bd45f\")) {                    Plotly.newPlot(                        \"f43cdbd7-3163-494d-9187-679d197bd45f\",                        [{\"hovertemplate\": \"CADD Score Phred = %{y}}\", \"name\": \"zero\", \"offsetgroup\": \"0\", \"text\": [\"A\", \"C\", \"C\", \"A\", \"A\", \"A\", \"A\", \"A\", \"C\", \"C\", \"A\", \"A\", \"A\", \"A\", \"A\", \"A\", \"A\", \"A\", \"C\", \"C\"], \"type\": \"bar\", \"x\": [32893226, 32893227, 32893228, 32893229, 32893230, 32893231, 32893232, 32893233, 32893234, 32893235, 32893236, 32893237, 32893238, 32893239, 32893240, 32893241, 32893242, 32893243, 32893244, 32893245], \"y\": [25.6, 11.14, 26.4, 26.1, 23.0, 25.1, 27.2, 11.13, 23.5, 25.1, 22.9, 28.6, 39.0, 38.0, 26.4, 26.1, 27.4, 26.7, 32.0, 21.6]}, {\"base\": [25.6, 11.14, 26.4, 26.1, 23.0, 25.1, 27.2, 11.13, 23.5, 25.1, 22.9, 28.6, 39.0, 38.0, 26.4, 26.1, 27.4, 26.7, 32.0, 21.6], \"hovertemplate\": \"CADD Score Phred = %{y}}\", \"name\": \"one\", \"offsetgroup\": \"0\", \"text\": [\"C\", \"G\", \"G\", \"C\", \"C\", \"G\", \"C\", \"C\", \"G\", \"G\", \"C\", \"C\", \"C\", \"C\", \"C\", \"C\", \"C\", \"C\", \"G\", \"G\"], \"type\": \"bar\", \"x\": [32893226, 32893227, 32893228, 32893229, 32893230, 32893231, 32893232, 32893233, 32893234, 32893235, 32893236, 32893237, 32893238, 32893239, 32893240, 32893241, 32893242, 32893243, 32893244, 32893245], \"y\": [23.7, 23.3, 26.2, 25.8, 9.937, 24.6, 27.7, 11.27, 23.7, 24.8, 9.659, 26.7, 27.9, 28.8, 26.6, 27.3, 13.07, 24.7, 26.9, 11.0]}, {\"base\": [49.3, 34.44, 52.599999999999994, 51.900000000000006, 32.937, 49.7, 54.9, 22.4, 47.2, 49.900000000000006, 32.559, 55.3, 66.9, 66.8, 53.0, 53.400000000000006, 40.47, 51.4, 58.9, 32.6], \"hovertemplate\": \"CADD Score Phred = %{y}}\", \"name\": \"two\", \"offsetgroup\": \"0\", \"text\": [\"G\", \"T\", \"T\", \"T\", \"G\", \"T\", \"G\", \"G\", \"T\", \"T\", \"G\", \"G\", \"T\", \"T\", \"G\", \"G\", \"G\", \"T\", \"T\", \"T\"], \"type\": \"bar\", \"x\": [32893226, 32893227, 32893228, 32893229, 32893230, 32893231, 32893232, 32893233, 32893234, 32893235, 32893236, 32893237, 32893238, 32893239, 32893240, 32893241, 32893242, 32893243, 32893244, 32893245], \"y\": [25.3, 11.67, 26.4, 27.4, 23.0, 25.4, 27.6, 11.07, 23.9, 26.0, 22.9, 27.1, 28.2, 29.6, 26.3, 27.3, 26.5, 39.0, 32.0, 22.3]}, {\"base\": [74.6, 46.11, 79.0, 79.30000000000001, 55.937, 75.1, 82.5, 33.47, 71.1, 75.9, 55.458999999999996, 82.4, 95.10000000000001, 96.4, 79.3, 80.7, 66.97, 90.4, 90.9, 54.900000000000006], \"hovertemplate\": \"CADD Score Phred = %{y}}\", \"name\": \"three\", \"offsetgroup\": \"0\", \"text\": [\"nan\", \"nan\", \"nan\", \"nan\", \"nan\", \"nan\", \"nan\", \"nan\", \"nan\", \"nan\", \"nan\", \"nan\", \"nan\", \"nan\", \"nan\", \"nan\", \"nan\", \"nan\", \"nan\", \"nan\"], \"type\": \"bar\", \"x\": [32893226, 32893227, 32893228, 32893229, 32893230, 32893231, 32893232, 32893233, 32893234, 32893235, 32893236, 32893237, 32893238, 32893239, 32893240, 32893241, 32893242, 32893243, 32893244, 32893245], \"y\": [null, null, null, null, null, null, null, null, null, null, null, null, null, null, null, null, null, null, null, null]}, {\"base\": [null, null, null, null, null, null, null, null, null, null, null, null, null, null, null, null, null, null, null, null], \"hovertemplate\": \"CADD Score Phred = %{y}}\", \"name\": \"four\", \"offsetgroup\": \"0\", \"text\": [\"nan\", \"nan\", \"nan\", \"nan\", \"nan\", \"nan\", \"nan\", \"nan\", \"nan\", \"nan\", \"nan\", \"nan\", \"nan\", \"nan\", \"nan\", \"nan\", \"nan\", \"nan\", \"nan\", \"nan\"], \"type\": \"bar\", \"x\": [32893226, 32893227, 32893228, 32893229, 32893230, 32893231, 32893232, 32893233, 32893234, 32893235, 32893236, 32893237, 32893238, 32893239, 32893240, 32893241, 32893242, 32893243, 32893244, 32893245], \"y\": [null, null, null, null, null, null, null, null, null, null, null, null, null, null, null, null, null, null, null, null]}, {\"base\": [null, null, null, null, null, null, null, null, null, null, null, null, null, null, null, null, null, null, null, null], \"hovertemplate\": \"CADD Score Phred = %{y}}\", \"name\": \"five\", \"offsetgroup\": \"0\", \"text\": [\"nan\", \"nan\", \"nan\", \"nan\", \"nan\", \"nan\", \"nan\", \"nan\", \"nan\", \"nan\", \"nan\", \"nan\", \"nan\", \"nan\", \"nan\", \"nan\", \"nan\", \"nan\", \"nan\", \"nan\"], \"type\": \"bar\", \"x\": [32893226, 32893227, 32893228, 32893229, 32893230, 32893231, 32893232, 32893233, 32893234, 32893235, 32893236, 32893237, 32893238, 32893239, 32893240, 32893241, 32893242, 32893243, 32893244, 32893245], \"y\": [null, null, null, null, null, null, null, null, null, null, null, null, null, null, null, null, null, null, null, null]}],                        {\"template\": {\"data\": {\"bar\": [{\"error_x\": {\"color\": \"#2a3f5f\"}, \"error_y\": {\"color\": \"#2a3f5f\"}, \"marker\": {\"line\": {\"color\": \"#E5ECF6\", \"width\": 0.5}}, \"type\": \"bar\"}], \"barpolar\": [{\"marker\": {\"line\": {\"color\": \"#E5ECF6\", \"width\": 0.5}}, \"type\": \"barpolar\"}], \"carpet\": [{\"aaxis\": {\"endlinecolor\": \"#2a3f5f\", \"gridcolor\": \"white\", \"linecolor\": \"white\", \"minorgridcolor\": \"white\", \"startlinecolor\": \"#2a3f5f\"}, \"baxis\": {\"endlinecolor\": \"#2a3f5f\", \"gridcolor\": \"white\", \"linecolor\": \"white\", \"minorgridcolor\": \"white\", \"startlinecolor\": \"#2a3f5f\"}, \"type\": \"carpet\"}], \"choropleth\": [{\"colorbar\": {\"outlinewidth\": 0, \"ticks\": \"\"}, \"type\": \"choropleth\"}], \"contour\": [{\"colorbar\": {\"outlinewidth\": 0, \"ticks\": \"\"}, \"colorscale\": [[0.0, \"#0d0887\"], [0.1111111111111111, \"#46039f\"], [0.2222222222222222, \"#7201a8\"], [0.3333333333333333, \"#9c179e\"], [0.4444444444444444, \"#bd3786\"], [0.5555555555555556, \"#d8576b\"], [0.6666666666666666, \"#ed7953\"], [0.7777777777777778, \"#fb9f3a\"], [0.8888888888888888, \"#fdca26\"], [1.0, \"#f0f921\"]], \"type\": \"contour\"}], \"contourcarpet\": [{\"colorbar\": {\"outlinewidth\": 0, \"ticks\": \"\"}, \"type\": \"contourcarpet\"}], \"heatmap\": [{\"colorbar\": {\"outlinewidth\": 0, \"ticks\": \"\"}, \"colorscale\": [[0.0, \"#0d0887\"], [0.1111111111111111, \"#46039f\"], [0.2222222222222222, \"#7201a8\"], [0.3333333333333333, \"#9c179e\"], [0.4444444444444444, \"#bd3786\"], [0.5555555555555556, \"#d8576b\"], [0.6666666666666666, \"#ed7953\"], [0.7777777777777778, \"#fb9f3a\"], [0.8888888888888888, \"#fdca26\"], [1.0, \"#f0f921\"]], \"type\": \"heatmap\"}], \"heatmapgl\": [{\"colorbar\": {\"outlinewidth\": 0, \"ticks\": \"\"}, \"colorscale\": [[0.0, \"#0d0887\"], [0.1111111111111111, \"#46039f\"], [0.2222222222222222, \"#7201a8\"], [0.3333333333333333, \"#9c179e\"], [0.4444444444444444, \"#bd3786\"], [0.5555555555555556, \"#d8576b\"], [0.6666666666666666, \"#ed7953\"], [0.7777777777777778, \"#fb9f3a\"], [0.8888888888888888, \"#fdca26\"], [1.0, \"#f0f921\"]], \"type\": \"heatmapgl\"}], \"histogram\": [{\"marker\": {\"colorbar\": {\"outlinewidth\": 0, \"ticks\": \"\"}}, \"type\": \"histogram\"}], \"histogram2d\": [{\"colorbar\": {\"outlinewidth\": 0, \"ticks\": \"\"}, \"colorscale\": [[0.0, \"#0d0887\"], [0.1111111111111111, \"#46039f\"], [0.2222222222222222, \"#7201a8\"], [0.3333333333333333, \"#9c179e\"], [0.4444444444444444, \"#bd3786\"], [0.5555555555555556, \"#d8576b\"], [0.6666666666666666, \"#ed7953\"], [0.7777777777777778, \"#fb9f3a\"], [0.8888888888888888, \"#fdca26\"], [1.0, \"#f0f921\"]], \"type\": \"histogram2d\"}], \"histogram2dcontour\": [{\"colorbar\": {\"outlinewidth\": 0, \"ticks\": \"\"}, \"colorscale\": [[0.0, \"#0d0887\"], [0.1111111111111111, \"#46039f\"], [0.2222222222222222, \"#7201a8\"], [0.3333333333333333, \"#9c179e\"], [0.4444444444444444, \"#bd3786\"], [0.5555555555555556, \"#d8576b\"], [0.6666666666666666, \"#ed7953\"], [0.7777777777777778, \"#fb9f3a\"], [0.8888888888888888, \"#fdca26\"], [1.0, \"#f0f921\"]], \"type\": \"histogram2dcontour\"}], \"mesh3d\": [{\"colorbar\": {\"outlinewidth\": 0, \"ticks\": \"\"}, \"type\": \"mesh3d\"}], \"parcoords\": [{\"line\": {\"colorbar\": {\"outlinewidth\": 0, \"ticks\": \"\"}}, \"type\": \"parcoords\"}], \"pie\": [{\"automargin\": true, \"type\": \"pie\"}], \"scatter\": [{\"marker\": {\"colorbar\": {\"outlinewidth\": 0, \"ticks\": \"\"}}, \"type\": \"scatter\"}], \"scatter3d\": [{\"line\": {\"colorbar\": {\"outlinewidth\": 0, \"ticks\": \"\"}}, \"marker\": {\"colorbar\": {\"outlinewidth\": 0, \"ticks\": \"\"}}, \"type\": \"scatter3d\"}], \"scattercarpet\": [{\"marker\": {\"colorbar\": {\"outlinewidth\": 0, \"ticks\": \"\"}}, \"type\": \"scattercarpet\"}], \"scattergeo\": [{\"marker\": {\"colorbar\": {\"outlinewidth\": 0, \"ticks\": \"\"}}, \"type\": \"scattergeo\"}], \"scattergl\": [{\"marker\": {\"colorbar\": {\"outlinewidth\": 0, \"ticks\": \"\"}}, \"type\": \"scattergl\"}], \"scattermapbox\": [{\"marker\": {\"colorbar\": {\"outlinewidth\": 0, \"ticks\": \"\"}}, \"type\": \"scattermapbox\"}], \"scatterpolar\": [{\"marker\": {\"colorbar\": {\"outlinewidth\": 0, \"ticks\": \"\"}}, \"type\": \"scatterpolar\"}], \"scatterpolargl\": [{\"marker\": {\"colorbar\": {\"outlinewidth\": 0, \"ticks\": \"\"}}, \"type\": \"scatterpolargl\"}], \"scatterternary\": [{\"marker\": {\"colorbar\": {\"outlinewidth\": 0, \"ticks\": \"\"}}, \"type\": \"scatterternary\"}], \"surface\": [{\"colorbar\": {\"outlinewidth\": 0, \"ticks\": \"\"}, \"colorscale\": [[0.0, \"#0d0887\"], [0.1111111111111111, \"#46039f\"], [0.2222222222222222, \"#7201a8\"], [0.3333333333333333, \"#9c179e\"], [0.4444444444444444, \"#bd3786\"], [0.5555555555555556, \"#d8576b\"], [0.6666666666666666, \"#ed7953\"], [0.7777777777777778, \"#fb9f3a\"], [0.8888888888888888, \"#fdca26\"], [1.0, \"#f0f921\"]], \"type\": \"surface\"}], \"table\": [{\"cells\": {\"fill\": {\"color\": \"#EBF0F8\"}, \"line\": {\"color\": \"white\"}}, \"header\": {\"fill\": {\"color\": \"#C8D4E3\"}, \"line\": {\"color\": \"white\"}}, \"type\": \"table\"}]}, \"layout\": {\"annotationdefaults\": {\"arrowcolor\": \"#2a3f5f\", \"arrowhead\": 0, \"arrowwidth\": 1}, \"autotypenumbers\": \"strict\", \"coloraxis\": {\"colorbar\": {\"outlinewidth\": 0, \"ticks\": \"\"}}, \"colorscale\": {\"diverging\": [[0, \"#8e0152\"], [0.1, \"#c51b7d\"], [0.2, \"#de77ae\"], [0.3, \"#f1b6da\"], [0.4, \"#fde0ef\"], [0.5, \"#f7f7f7\"], [0.6, \"#e6f5d0\"], [0.7, \"#b8e186\"], [0.8, \"#7fbc41\"], [0.9, \"#4d9221\"], [1, \"#276419\"]], \"sequential\": [[0.0, \"#0d0887\"], [0.1111111111111111, \"#46039f\"], [0.2222222222222222, \"#7201a8\"], [0.3333333333333333, \"#9c179e\"], [0.4444444444444444, \"#bd3786\"], [0.5555555555555556, \"#d8576b\"], [0.6666666666666666, \"#ed7953\"], [0.7777777777777778, \"#fb9f3a\"], [0.8888888888888888, \"#fdca26\"], [1.0, \"#f0f921\"]], \"sequentialminus\": [[0.0, \"#0d0887\"], [0.1111111111111111, \"#46039f\"], [0.2222222222222222, \"#7201a8\"], [0.3333333333333333, \"#9c179e\"], [0.4444444444444444, \"#bd3786\"], [0.5555555555555556, \"#d8576b\"], [0.6666666666666666, \"#ed7953\"], [0.7777777777777778, \"#fb9f3a\"], [0.8888888888888888, \"#fdca26\"], [1.0, \"#f0f921\"]]}, \"colorway\": [\"#636efa\", \"#EF553B\", \"#00cc96\", \"#ab63fa\", \"#FFA15A\", \"#19d3f3\", \"#FF6692\", \"#B6E880\", \"#FF97FF\", \"#FECB52\"], \"font\": {\"color\": \"#2a3f5f\"}, \"geo\": {\"bgcolor\": \"white\", \"lakecolor\": \"white\", \"landcolor\": \"#E5ECF6\", \"showlakes\": true, \"showland\": true, \"subunitcolor\": \"white\"}, \"hoverlabel\": {\"align\": \"left\"}, \"hovermode\": \"closest\", \"mapbox\": {\"style\": \"light\"}, \"paper_bgcolor\": \"white\", \"plot_bgcolor\": \"#E5ECF6\", \"polar\": {\"angularaxis\": {\"gridcolor\": \"white\", \"linecolor\": \"white\", \"ticks\": \"\"}, \"bgcolor\": \"#E5ECF6\", \"radialaxis\": {\"gridcolor\": \"white\", \"linecolor\": \"white\", \"ticks\": \"\"}}, \"scene\": {\"xaxis\": {\"backgroundcolor\": \"#E5ECF6\", \"gridcolor\": \"white\", \"gridwidth\": 2, \"linecolor\": \"white\", \"showbackground\": true, \"ticks\": \"\", \"zerolinecolor\": \"white\"}, \"yaxis\": {\"backgroundcolor\": \"#E5ECF6\", \"gridcolor\": \"white\", \"gridwidth\": 2, \"linecolor\": \"white\", \"showbackground\": true, \"ticks\": \"\", \"zerolinecolor\": \"white\"}, \"zaxis\": {\"backgroundcolor\": \"#E5ECF6\", \"gridcolor\": \"white\", \"gridwidth\": 2, \"linecolor\": \"white\", \"showbackground\": true, \"ticks\": \"\", \"zerolinecolor\": \"white\"}}, \"shapedefaults\": {\"line\": {\"color\": \"#2a3f5f\"}}, \"ternary\": {\"aaxis\": {\"gridcolor\": \"white\", \"linecolor\": \"white\", \"ticks\": \"\"}, \"baxis\": {\"gridcolor\": \"white\", \"linecolor\": \"white\", \"ticks\": \"\"}, \"bgcolor\": \"#E5ECF6\", \"caxis\": {\"gridcolor\": \"white\", \"linecolor\": \"white\", \"ticks\": \"\"}}, \"title\": {\"x\": 0.05}, \"xaxis\": {\"automargin\": true, \"gridcolor\": \"white\", \"linecolor\": \"white\", \"ticks\": \"\", \"title\": {\"standoff\": 15}, \"zerolinecolor\": \"white\", \"zerolinewidth\": 2}, \"yaxis\": {\"automargin\": true, \"gridcolor\": \"white\", \"linecolor\": \"white\", \"ticks\": \"\", \"title\": {\"standoff\": 15}, \"zerolinecolor\": \"white\", \"zerolinewidth\": 2}}}, \"title\": {\"text\": \"CADD Phred Scores Stacked\"}, \"yaxis\": {\"title\": {\"text\": \"CADD Phred Score\"}}},                        {\"responsive\": true}                    ).then(function(){\n",
       "                            \n",
       "var gd = document.getElementById('f43cdbd7-3163-494d-9187-679d197bd45f');\n",
       "var x = new MutationObserver(function (mutations, observer) {{\n",
       "        var display = window.getComputedStyle(gd).display;\n",
       "        if (!display || display === 'none') {{\n",
       "            console.log([gd, 'removed!']);\n",
       "            Plotly.purge(gd);\n",
       "            observer.disconnect();\n",
       "        }}\n",
       "}});\n",
       "\n",
       "// Listen for the removal of the full notebook cells\n",
       "var notebookContainer = gd.closest('#notebook-container');\n",
       "if (notebookContainer) {{\n",
       "    x.observe(notebookContainer, {childList: true});\n",
       "}}\n",
       "\n",
       "// Listen for the clearing of the current output cell\n",
       "var outputEl = gd.closest('.output');\n",
       "if (outputEl) {{\n",
       "    x.observe(outputEl, {childList: true});\n",
       "}}\n",
       "\n",
       "                        })                };                });            </script>        </div>"
      ]
     },
     "metadata": {},
     "output_type": "display_data"
    }
   ],
   "source": [
    "# not so easy\n",
    "fig1 = go.Figure(\n",
    "    data = [\n",
    "        go.Bar(\n",
    "            name = 'zero',\n",
    "            x = m5['POS'],\n",
    "            y = m5['CADD_PHRED_VEP_gr0'],\n",
    "            offsetgroup = 0,\n",
    "            hovertemplate = 'CADD Score Phred = %{y}}',\n",
    "            text = list(m5['ALT_gr0']),\n",
    "        ),\n",
    "        go.Bar(\n",
    "            name = 'one',\n",
    "            x = m5['POS'],\n",
    "            y = m5['CADD_PHRED_VEP_gr1'],\n",
    "            offsetgroup = 0,\n",
    "            base = m5['CADD_PHRED_VEP_gr0'],\n",
    "            hovertemplate = 'CADD Score Phred = %{y}}',\n",
    "            text = list(m5['ALT_gr1']),\n",
    "        ),\n",
    "        go.Bar(\n",
    "            name = 'two',\n",
    "            x = m5['POS'],\n",
    "            y = m5['CADD_PHRED_VEP_gr2'],\n",
    "            offsetgroup = 0,\n",
    "            hovertemplate = 'CADD Score Phred = %{y}}',\n",
    "            text = list(m5['ALT_gr2']),\n",
    "            base = [val1+val2 for val1, val2 in zip(m5['CADD_PHRED_VEP_gr0'], m5['CADD_PHRED_VEP_gr1'])],\n",
    "        ),\n",
    "        go.Bar(\n",
    "            name = 'three',\n",
    "            x = m5['POS'],\n",
    "            y = m5['CADD_PHRED_VEP_gr3'],\n",
    "            offsetgroup = 0,\n",
    "            hovertemplate = 'CADD Score Phred = %{y}}',\n",
    "            text = list(m5['ALT_gr3']),\n",
    "            base = [val1+val2+val3 for val1, val2, val3 in zip(m5['CADD_PHRED_VEP_gr0'], m5['CADD_PHRED_VEP_gr1'], m5['CADD_PHRED_VEP_gr2'])],\n",
    "        ),\n",
    "        go.Bar(\n",
    "            name = 'four',\n",
    "            x = m5['POS'],\n",
    "            y = m5['CADD_PHRED_VEP_gr4'],\n",
    "            offsetgroup = 0,\n",
    "            hovertemplate = 'CADD Score Phred = %{y}}',\n",
    "            text = list(m5['ALT_gr4']),\n",
    "            base = [val1+val2+val3+val4 for val1, val2, val3, val4 in zip(m5['CADD_PHRED_VEP_gr0'], m5['CADD_PHRED_VEP_gr1'], m5['CADD_PHRED_VEP_gr2'], m5['CADD_PHRED_VEP_gr3'])],\n",
    "        ),\n",
    "        go.Bar(\n",
    "            name = 'five',\n",
    "            x = m5['POS'],\n",
    "            y = m5['CADD_PHRED_VEP_gr5'],\n",
    "            offsetgroup = 0,\n",
    "            hovertemplate = 'CADD Score Phred = %{y}}',\n",
    "            text = list(m5['ALT_gr5']),\n",
    "            base = [val1+val2+val3+val4+val5 for val1, val2, val3, val4, val5 in zip(m5['CADD_PHRED_VEP_gr0'], m5['CADD_PHRED_VEP_gr1'], m5['CADD_PHRED_VEP_gr2'], m5['CADD_PHRED_VEP_gr3'], m5['CADD_PHRED_VEP_gr4'])],\n",
    "        ),\n",
    "    ],\n",
    "    layout = go.Layout(title = 'CADD Phred Scores Stacked', yaxis_title = 'CADD Phred Score'))\n",
    "fig1.update_traces()\n",
    "fig1.show()"
   ]
  },
  {
   "cell_type": "code",
   "execution_count": 358,
   "metadata": {},
   "outputs": [
    {
     "data": {
      "application/vnd.plotly.v1+json": {
       "config": {
        "plotlyServerURL": "https://plot.ly"
       },
       "data": [
        {
         "marker": {
          "line": {
           "color": "blue",
           "width": [
            0,
            0,
            0,
            0,
            0,
            0,
            0,
            0,
            0,
            0,
            0,
            0,
            10,
            10,
            0,
            0,
            0,
            0,
            0,
            0
           ]
          }
         },
         "name": "Var1",
         "type": "bar",
         "x": [
          32893226,
          32893227,
          32893228,
          32893229,
          32893230,
          32893231,
          32893232,
          32893233,
          32893234,
          32893235,
          32893236,
          32893237,
          32893238,
          32893239,
          32893240,
          32893241,
          32893242,
          32893243,
          32893244,
          32893245
         ],
         "y": [
          25.6,
          11.14,
          26.4,
          26.1,
          23,
          25.1,
          27.2,
          11.13,
          23.5,
          25.1,
          22.9,
          28.6,
          39,
          38,
          26.4,
          26.1,
          27.4,
          26.7,
          32,
          21.6
         ]
        },
        {
         "marker": {
          "line": {
           "color": "blue",
           "width": [
            0,
            0,
            0,
            0,
            0,
            0,
            0,
            0,
            0,
            0,
            0,
            0,
            0,
            0,
            0,
            0,
            0,
            0,
            0,
            0
           ]
          }
         },
         "name": "Var2",
         "type": "bar",
         "x": [
          32893226,
          32893227,
          32893228,
          32893229,
          32893230,
          32893231,
          32893232,
          32893233,
          32893234,
          32893235,
          32893236,
          32893237,
          32893238,
          32893239,
          32893240,
          32893241,
          32893242,
          32893243,
          32893244,
          32893245
         ],
         "y": [
          23.7,
          23.3,
          26.2,
          25.8,
          9.937,
          24.6,
          27.7,
          11.27,
          23.7,
          24.8,
          9.659,
          26.7,
          27.9,
          28.8,
          26.6,
          27.3,
          13.07,
          24.7,
          26.9,
          11
         ]
        },
        {
         "marker": {
          "line": {
           "color": "blue",
           "width": [
            0,
            0,
            0,
            0,
            0,
            0,
            0,
            0,
            0,
            0,
            0,
            0,
            0,
            0,
            0,
            0,
            0,
            10,
            0,
            0
           ]
          }
         },
         "name": "Var3",
         "type": "bar",
         "x": [
          32893226,
          32893227,
          32893228,
          32893229,
          32893230,
          32893231,
          32893232,
          32893233,
          32893234,
          32893235,
          32893236,
          32893237,
          32893238,
          32893239,
          32893240,
          32893241,
          32893242,
          32893243,
          32893244,
          32893245
         ],
         "y": [
          25.3,
          11.67,
          26.4,
          27.4,
          23,
          25.4,
          27.6,
          11.07,
          23.9,
          26,
          22.9,
          27.1,
          28.2,
          29.6,
          26.3,
          27.3,
          26.5,
          39,
          32,
          22.3
         ]
        },
        {
         "marker": {
          "line": {
           "color": "blue",
           "width": [
            0,
            0,
            0,
            0,
            0,
            0,
            0,
            0,
            0,
            0,
            0,
            0,
            0,
            0,
            0,
            0,
            0,
            0,
            0,
            0
           ]
          }
         },
         "name": "Var4",
         "type": "bar",
         "x": [
          32893226,
          32893227,
          32893228,
          32893229,
          32893230,
          32893231,
          32893232,
          32893233,
          32893234,
          32893235,
          32893236,
          32893237,
          32893238,
          32893239,
          32893240,
          32893241,
          32893242,
          32893243,
          32893244,
          32893245
         ],
         "y": [
          null,
          null,
          null,
          null,
          null,
          null,
          null,
          null,
          null,
          null,
          null,
          null,
          null,
          null,
          null,
          null,
          null,
          null,
          null,
          null
         ]
        },
        {
         "marker": {
          "line": {
           "color": "blue",
           "width": [
            0,
            0,
            0,
            0,
            0,
            0,
            0,
            0,
            0,
            0,
            0,
            0,
            0,
            0,
            0,
            0,
            0,
            0,
            0,
            0
           ]
          }
         },
         "name": "Var5",
         "type": "bar",
         "x": [
          32893226,
          32893227,
          32893228,
          32893229,
          32893230,
          32893231,
          32893232,
          32893233,
          32893234,
          32893235,
          32893236,
          32893237,
          32893238,
          32893239,
          32893240,
          32893241,
          32893242,
          32893243,
          32893244,
          32893245
         ],
         "y": [
          null,
          null,
          null,
          null,
          null,
          null,
          null,
          null,
          null,
          null,
          null,
          null,
          null,
          null,
          null,
          null,
          null,
          null,
          null,
          null
         ]
        },
        {
         "marker": {
          "line": {
           "color": "blue",
           "width": [
            0,
            0,
            0,
            0,
            0,
            0,
            0,
            0,
            0,
            0,
            0,
            0,
            0,
            0,
            0,
            0,
            0,
            0,
            0,
            0
           ]
          }
         },
         "name": "Var6",
         "type": "bar",
         "x": [
          32893226,
          32893227,
          32893228,
          32893229,
          32893230,
          32893231,
          32893232,
          32893233,
          32893234,
          32893235,
          32893236,
          32893237,
          32893238,
          32893239,
          32893240,
          32893241,
          32893242,
          32893243,
          32893244,
          32893245
         ],
         "y": [
          null,
          null,
          null,
          null,
          null,
          null,
          null,
          null,
          null,
          null,
          null,
          null,
          null,
          null,
          null,
          null,
          null,
          null,
          null,
          null
         ]
        }
       ],
       "layout": {
        "barmode": "stack",
        "template": {
         "data": {
          "bar": [
           {
            "error_x": {
             "color": "#2a3f5f"
            },
            "error_y": {
             "color": "#2a3f5f"
            },
            "marker": {
             "line": {
              "color": "#E5ECF6",
              "width": 0.5
             }
            },
            "type": "bar"
           }
          ],
          "barpolar": [
           {
            "marker": {
             "line": {
              "color": "#E5ECF6",
              "width": 0.5
             }
            },
            "type": "barpolar"
           }
          ],
          "carpet": [
           {
            "aaxis": {
             "endlinecolor": "#2a3f5f",
             "gridcolor": "white",
             "linecolor": "white",
             "minorgridcolor": "white",
             "startlinecolor": "#2a3f5f"
            },
            "baxis": {
             "endlinecolor": "#2a3f5f",
             "gridcolor": "white",
             "linecolor": "white",
             "minorgridcolor": "white",
             "startlinecolor": "#2a3f5f"
            },
            "type": "carpet"
           }
          ],
          "choropleth": [
           {
            "colorbar": {
             "outlinewidth": 0,
             "ticks": ""
            },
            "type": "choropleth"
           }
          ],
          "contour": [
           {
            "colorbar": {
             "outlinewidth": 0,
             "ticks": ""
            },
            "colorscale": [
             [
              0,
              "#0d0887"
             ],
             [
              0.1111111111111111,
              "#46039f"
             ],
             [
              0.2222222222222222,
              "#7201a8"
             ],
             [
              0.3333333333333333,
              "#9c179e"
             ],
             [
              0.4444444444444444,
              "#bd3786"
             ],
             [
              0.5555555555555556,
              "#d8576b"
             ],
             [
              0.6666666666666666,
              "#ed7953"
             ],
             [
              0.7777777777777778,
              "#fb9f3a"
             ],
             [
              0.8888888888888888,
              "#fdca26"
             ],
             [
              1,
              "#f0f921"
             ]
            ],
            "type": "contour"
           }
          ],
          "contourcarpet": [
           {
            "colorbar": {
             "outlinewidth": 0,
             "ticks": ""
            },
            "type": "contourcarpet"
           }
          ],
          "heatmap": [
           {
            "colorbar": {
             "outlinewidth": 0,
             "ticks": ""
            },
            "colorscale": [
             [
              0,
              "#0d0887"
             ],
             [
              0.1111111111111111,
              "#46039f"
             ],
             [
              0.2222222222222222,
              "#7201a8"
             ],
             [
              0.3333333333333333,
              "#9c179e"
             ],
             [
              0.4444444444444444,
              "#bd3786"
             ],
             [
              0.5555555555555556,
              "#d8576b"
             ],
             [
              0.6666666666666666,
              "#ed7953"
             ],
             [
              0.7777777777777778,
              "#fb9f3a"
             ],
             [
              0.8888888888888888,
              "#fdca26"
             ],
             [
              1,
              "#f0f921"
             ]
            ],
            "type": "heatmap"
           }
          ],
          "heatmapgl": [
           {
            "colorbar": {
             "outlinewidth": 0,
             "ticks": ""
            },
            "colorscale": [
             [
              0,
              "#0d0887"
             ],
             [
              0.1111111111111111,
              "#46039f"
             ],
             [
              0.2222222222222222,
              "#7201a8"
             ],
             [
              0.3333333333333333,
              "#9c179e"
             ],
             [
              0.4444444444444444,
              "#bd3786"
             ],
             [
              0.5555555555555556,
              "#d8576b"
             ],
             [
              0.6666666666666666,
              "#ed7953"
             ],
             [
              0.7777777777777778,
              "#fb9f3a"
             ],
             [
              0.8888888888888888,
              "#fdca26"
             ],
             [
              1,
              "#f0f921"
             ]
            ],
            "type": "heatmapgl"
           }
          ],
          "histogram": [
           {
            "marker": {
             "colorbar": {
              "outlinewidth": 0,
              "ticks": ""
             }
            },
            "type": "histogram"
           }
          ],
          "histogram2d": [
           {
            "colorbar": {
             "outlinewidth": 0,
             "ticks": ""
            },
            "colorscale": [
             [
              0,
              "#0d0887"
             ],
             [
              0.1111111111111111,
              "#46039f"
             ],
             [
              0.2222222222222222,
              "#7201a8"
             ],
             [
              0.3333333333333333,
              "#9c179e"
             ],
             [
              0.4444444444444444,
              "#bd3786"
             ],
             [
              0.5555555555555556,
              "#d8576b"
             ],
             [
              0.6666666666666666,
              "#ed7953"
             ],
             [
              0.7777777777777778,
              "#fb9f3a"
             ],
             [
              0.8888888888888888,
              "#fdca26"
             ],
             [
              1,
              "#f0f921"
             ]
            ],
            "type": "histogram2d"
           }
          ],
          "histogram2dcontour": [
           {
            "colorbar": {
             "outlinewidth": 0,
             "ticks": ""
            },
            "colorscale": [
             [
              0,
              "#0d0887"
             ],
             [
              0.1111111111111111,
              "#46039f"
             ],
             [
              0.2222222222222222,
              "#7201a8"
             ],
             [
              0.3333333333333333,
              "#9c179e"
             ],
             [
              0.4444444444444444,
              "#bd3786"
             ],
             [
              0.5555555555555556,
              "#d8576b"
             ],
             [
              0.6666666666666666,
              "#ed7953"
             ],
             [
              0.7777777777777778,
              "#fb9f3a"
             ],
             [
              0.8888888888888888,
              "#fdca26"
             ],
             [
              1,
              "#f0f921"
             ]
            ],
            "type": "histogram2dcontour"
           }
          ],
          "mesh3d": [
           {
            "colorbar": {
             "outlinewidth": 0,
             "ticks": ""
            },
            "type": "mesh3d"
           }
          ],
          "parcoords": [
           {
            "line": {
             "colorbar": {
              "outlinewidth": 0,
              "ticks": ""
             }
            },
            "type": "parcoords"
           }
          ],
          "pie": [
           {
            "automargin": true,
            "type": "pie"
           }
          ],
          "scatter": [
           {
            "marker": {
             "colorbar": {
              "outlinewidth": 0,
              "ticks": ""
             }
            },
            "type": "scatter"
           }
          ],
          "scatter3d": [
           {
            "line": {
             "colorbar": {
              "outlinewidth": 0,
              "ticks": ""
             }
            },
            "marker": {
             "colorbar": {
              "outlinewidth": 0,
              "ticks": ""
             }
            },
            "type": "scatter3d"
           }
          ],
          "scattercarpet": [
           {
            "marker": {
             "colorbar": {
              "outlinewidth": 0,
              "ticks": ""
             }
            },
            "type": "scattercarpet"
           }
          ],
          "scattergeo": [
           {
            "marker": {
             "colorbar": {
              "outlinewidth": 0,
              "ticks": ""
             }
            },
            "type": "scattergeo"
           }
          ],
          "scattergl": [
           {
            "marker": {
             "colorbar": {
              "outlinewidth": 0,
              "ticks": ""
             }
            },
            "type": "scattergl"
           }
          ],
          "scattermapbox": [
           {
            "marker": {
             "colorbar": {
              "outlinewidth": 0,
              "ticks": ""
             }
            },
            "type": "scattermapbox"
           }
          ],
          "scatterpolar": [
           {
            "marker": {
             "colorbar": {
              "outlinewidth": 0,
              "ticks": ""
             }
            },
            "type": "scatterpolar"
           }
          ],
          "scatterpolargl": [
           {
            "marker": {
             "colorbar": {
              "outlinewidth": 0,
              "ticks": ""
             }
            },
            "type": "scatterpolargl"
           }
          ],
          "scatterternary": [
           {
            "marker": {
             "colorbar": {
              "outlinewidth": 0,
              "ticks": ""
             }
            },
            "type": "scatterternary"
           }
          ],
          "surface": [
           {
            "colorbar": {
             "outlinewidth": 0,
             "ticks": ""
            },
            "colorscale": [
             [
              0,
              "#0d0887"
             ],
             [
              0.1111111111111111,
              "#46039f"
             ],
             [
              0.2222222222222222,
              "#7201a8"
             ],
             [
              0.3333333333333333,
              "#9c179e"
             ],
             [
              0.4444444444444444,
              "#bd3786"
             ],
             [
              0.5555555555555556,
              "#d8576b"
             ],
             [
              0.6666666666666666,
              "#ed7953"
             ],
             [
              0.7777777777777778,
              "#fb9f3a"
             ],
             [
              0.8888888888888888,
              "#fdca26"
             ],
             [
              1,
              "#f0f921"
             ]
            ],
            "type": "surface"
           }
          ],
          "table": [
           {
            "cells": {
             "fill": {
              "color": "#EBF0F8"
             },
             "line": {
              "color": "white"
             }
            },
            "header": {
             "fill": {
              "color": "#C8D4E3"
             },
             "line": {
              "color": "white"
             }
            },
            "type": "table"
           }
          ]
         },
         "layout": {
          "annotationdefaults": {
           "arrowcolor": "#2a3f5f",
           "arrowhead": 0,
           "arrowwidth": 1
          },
          "autotypenumbers": "strict",
          "coloraxis": {
           "colorbar": {
            "outlinewidth": 0,
            "ticks": ""
           }
          },
          "colorscale": {
           "diverging": [
            [
             0,
             "#8e0152"
            ],
            [
             0.1,
             "#c51b7d"
            ],
            [
             0.2,
             "#de77ae"
            ],
            [
             0.3,
             "#f1b6da"
            ],
            [
             0.4,
             "#fde0ef"
            ],
            [
             0.5,
             "#f7f7f7"
            ],
            [
             0.6,
             "#e6f5d0"
            ],
            [
             0.7,
             "#b8e186"
            ],
            [
             0.8,
             "#7fbc41"
            ],
            [
             0.9,
             "#4d9221"
            ],
            [
             1,
             "#276419"
            ]
           ],
           "sequential": [
            [
             0,
             "#0d0887"
            ],
            [
             0.1111111111111111,
             "#46039f"
            ],
            [
             0.2222222222222222,
             "#7201a8"
            ],
            [
             0.3333333333333333,
             "#9c179e"
            ],
            [
             0.4444444444444444,
             "#bd3786"
            ],
            [
             0.5555555555555556,
             "#d8576b"
            ],
            [
             0.6666666666666666,
             "#ed7953"
            ],
            [
             0.7777777777777778,
             "#fb9f3a"
            ],
            [
             0.8888888888888888,
             "#fdca26"
            ],
            [
             1,
             "#f0f921"
            ]
           ],
           "sequentialminus": [
            [
             0,
             "#0d0887"
            ],
            [
             0.1111111111111111,
             "#46039f"
            ],
            [
             0.2222222222222222,
             "#7201a8"
            ],
            [
             0.3333333333333333,
             "#9c179e"
            ],
            [
             0.4444444444444444,
             "#bd3786"
            ],
            [
             0.5555555555555556,
             "#d8576b"
            ],
            [
             0.6666666666666666,
             "#ed7953"
            ],
            [
             0.7777777777777778,
             "#fb9f3a"
            ],
            [
             0.8888888888888888,
             "#fdca26"
            ],
            [
             1,
             "#f0f921"
            ]
           ]
          },
          "colorway": [
           "#636efa",
           "#EF553B",
           "#00cc96",
           "#ab63fa",
           "#FFA15A",
           "#19d3f3",
           "#FF6692",
           "#B6E880",
           "#FF97FF",
           "#FECB52"
          ],
          "font": {
           "color": "#2a3f5f"
          },
          "geo": {
           "bgcolor": "white",
           "lakecolor": "white",
           "landcolor": "#E5ECF6",
           "showlakes": true,
           "showland": true,
           "subunitcolor": "white"
          },
          "hoverlabel": {
           "align": "left"
          },
          "hovermode": "closest",
          "mapbox": {
           "style": "light"
          },
          "paper_bgcolor": "white",
          "plot_bgcolor": "#E5ECF6",
          "polar": {
           "angularaxis": {
            "gridcolor": "white",
            "linecolor": "white",
            "ticks": ""
           },
           "bgcolor": "#E5ECF6",
           "radialaxis": {
            "gridcolor": "white",
            "linecolor": "white",
            "ticks": ""
           }
          },
          "scene": {
           "xaxis": {
            "backgroundcolor": "#E5ECF6",
            "gridcolor": "white",
            "gridwidth": 2,
            "linecolor": "white",
            "showbackground": true,
            "ticks": "",
            "zerolinecolor": "white"
           },
           "yaxis": {
            "backgroundcolor": "#E5ECF6",
            "gridcolor": "white",
            "gridwidth": 2,
            "linecolor": "white",
            "showbackground": true,
            "ticks": "",
            "zerolinecolor": "white"
           },
           "zaxis": {
            "backgroundcolor": "#E5ECF6",
            "gridcolor": "white",
            "gridwidth": 2,
            "linecolor": "white",
            "showbackground": true,
            "ticks": "",
            "zerolinecolor": "white"
           }
          },
          "shapedefaults": {
           "line": {
            "color": "#2a3f5f"
           }
          },
          "ternary": {
           "aaxis": {
            "gridcolor": "white",
            "linecolor": "white",
            "ticks": ""
           },
           "baxis": {
            "gridcolor": "white",
            "linecolor": "white",
            "ticks": ""
           },
           "bgcolor": "#E5ECF6",
           "caxis": {
            "gridcolor": "white",
            "linecolor": "white",
            "ticks": ""
           }
          },
          "title": {
           "x": 0.05
          },
          "xaxis": {
           "automargin": true,
           "gridcolor": "white",
           "linecolor": "white",
           "ticks": "",
           "title": {
            "standoff": 15
           },
           "zerolinecolor": "white",
           "zerolinewidth": 2
          },
          "yaxis": {
           "automargin": true,
           "gridcolor": "white",
           "linecolor": "white",
           "ticks": "",
           "title": {
            "standoff": 15
           },
           "zerolinecolor": "white",
           "zerolinewidth": 2
          }
         }
        }
       }
      },
      "text/html": [
       "<div>                            <div id=\"a6bbb5e9-f46e-432a-8268-5bd26d5dde95\" class=\"plotly-graph-div\" style=\"height:525px; width:100%;\"></div>            <script type=\"text/javascript\">                require([\"plotly\"], function(Plotly) {                    window.PLOTLYENV=window.PLOTLYENV || {};                                    if (document.getElementById(\"a6bbb5e9-f46e-432a-8268-5bd26d5dde95\")) {                    Plotly.newPlot(                        \"a6bbb5e9-f46e-432a-8268-5bd26d5dde95\",                        [{\"marker\": {\"line\": {\"color\": \"blue\", \"width\": [0, 0, 0, 0, 0, 0, 0, 0, 0, 0, 0, 0, 10, 10, 0, 0, 0, 0, 0, 0]}}, \"name\": \"Var1\", \"type\": \"bar\", \"x\": [32893226, 32893227, 32893228, 32893229, 32893230, 32893231, 32893232, 32893233, 32893234, 32893235, 32893236, 32893237, 32893238, 32893239, 32893240, 32893241, 32893242, 32893243, 32893244, 32893245], \"y\": [25.6, 11.14, 26.4, 26.1, 23.0, 25.1, 27.2, 11.13, 23.5, 25.1, 22.9, 28.6, 39.0, 38.0, 26.4, 26.1, 27.4, 26.7, 32.0, 21.6]}, {\"marker\": {\"line\": {\"color\": \"blue\", \"width\": [0, 0, 0, 0, 0, 0, 0, 0, 0, 0, 0, 0, 0, 0, 0, 0, 0, 0, 0, 0]}}, \"name\": \"Var2\", \"type\": \"bar\", \"x\": [32893226, 32893227, 32893228, 32893229, 32893230, 32893231, 32893232, 32893233, 32893234, 32893235, 32893236, 32893237, 32893238, 32893239, 32893240, 32893241, 32893242, 32893243, 32893244, 32893245], \"y\": [23.7, 23.3, 26.2, 25.8, 9.937, 24.6, 27.7, 11.27, 23.7, 24.8, 9.659, 26.7, 27.9, 28.8, 26.6, 27.3, 13.07, 24.7, 26.9, 11.0]}, {\"marker\": {\"line\": {\"color\": \"blue\", \"width\": [0, 0, 0, 0, 0, 0, 0, 0, 0, 0, 0, 0, 0, 0, 0, 0, 0, 10, 0, 0]}}, \"name\": \"Var3\", \"type\": \"bar\", \"x\": [32893226, 32893227, 32893228, 32893229, 32893230, 32893231, 32893232, 32893233, 32893234, 32893235, 32893236, 32893237, 32893238, 32893239, 32893240, 32893241, 32893242, 32893243, 32893244, 32893245], \"y\": [25.3, 11.67, 26.4, 27.4, 23.0, 25.4, 27.6, 11.07, 23.9, 26.0, 22.9, 27.1, 28.2, 29.6, 26.3, 27.3, 26.5, 39.0, 32.0, 22.3]}, {\"marker\": {\"line\": {\"color\": \"blue\", \"width\": [0, 0, 0, 0, 0, 0, 0, 0, 0, 0, 0, 0, 0, 0, 0, 0, 0, 0, 0, 0]}}, \"name\": \"Var4\", \"type\": \"bar\", \"x\": [32893226, 32893227, 32893228, 32893229, 32893230, 32893231, 32893232, 32893233, 32893234, 32893235, 32893236, 32893237, 32893238, 32893239, 32893240, 32893241, 32893242, 32893243, 32893244, 32893245], \"y\": [null, null, null, null, null, null, null, null, null, null, null, null, null, null, null, null, null, null, null, null]}, {\"marker\": {\"line\": {\"color\": \"blue\", \"width\": [0, 0, 0, 0, 0, 0, 0, 0, 0, 0, 0, 0, 0, 0, 0, 0, 0, 0, 0, 0]}}, \"name\": \"Var5\", \"type\": \"bar\", \"x\": [32893226, 32893227, 32893228, 32893229, 32893230, 32893231, 32893232, 32893233, 32893234, 32893235, 32893236, 32893237, 32893238, 32893239, 32893240, 32893241, 32893242, 32893243, 32893244, 32893245], \"y\": [null, null, null, null, null, null, null, null, null, null, null, null, null, null, null, null, null, null, null, null]}, {\"marker\": {\"line\": {\"color\": \"blue\", \"width\": [0, 0, 0, 0, 0, 0, 0, 0, 0, 0, 0, 0, 0, 0, 0, 0, 0, 0, 0, 0]}}, \"name\": \"Var6\", \"type\": \"bar\", \"x\": [32893226, 32893227, 32893228, 32893229, 32893230, 32893231, 32893232, 32893233, 32893234, 32893235, 32893236, 32893237, 32893238, 32893239, 32893240, 32893241, 32893242, 32893243, 32893244, 32893245], \"y\": [null, null, null, null, null, null, null, null, null, null, null, null, null, null, null, null, null, null, null, null]}],                        {\"barmode\": \"stack\", \"template\": {\"data\": {\"bar\": [{\"error_x\": {\"color\": \"#2a3f5f\"}, \"error_y\": {\"color\": \"#2a3f5f\"}, \"marker\": {\"line\": {\"color\": \"#E5ECF6\", \"width\": 0.5}}, \"type\": \"bar\"}], \"barpolar\": [{\"marker\": {\"line\": {\"color\": \"#E5ECF6\", \"width\": 0.5}}, \"type\": \"barpolar\"}], \"carpet\": [{\"aaxis\": {\"endlinecolor\": \"#2a3f5f\", \"gridcolor\": \"white\", \"linecolor\": \"white\", \"minorgridcolor\": \"white\", \"startlinecolor\": \"#2a3f5f\"}, \"baxis\": {\"endlinecolor\": \"#2a3f5f\", \"gridcolor\": \"white\", \"linecolor\": \"white\", \"minorgridcolor\": \"white\", \"startlinecolor\": \"#2a3f5f\"}, \"type\": \"carpet\"}], \"choropleth\": [{\"colorbar\": {\"outlinewidth\": 0, \"ticks\": \"\"}, \"type\": \"choropleth\"}], \"contour\": [{\"colorbar\": {\"outlinewidth\": 0, \"ticks\": \"\"}, \"colorscale\": [[0.0, \"#0d0887\"], [0.1111111111111111, \"#46039f\"], [0.2222222222222222, \"#7201a8\"], [0.3333333333333333, \"#9c179e\"], [0.4444444444444444, \"#bd3786\"], [0.5555555555555556, \"#d8576b\"], [0.6666666666666666, \"#ed7953\"], [0.7777777777777778, \"#fb9f3a\"], [0.8888888888888888, \"#fdca26\"], [1.0, \"#f0f921\"]], \"type\": \"contour\"}], \"contourcarpet\": [{\"colorbar\": {\"outlinewidth\": 0, \"ticks\": \"\"}, \"type\": \"contourcarpet\"}], \"heatmap\": [{\"colorbar\": {\"outlinewidth\": 0, \"ticks\": \"\"}, \"colorscale\": [[0.0, \"#0d0887\"], [0.1111111111111111, \"#46039f\"], [0.2222222222222222, \"#7201a8\"], [0.3333333333333333, \"#9c179e\"], [0.4444444444444444, \"#bd3786\"], [0.5555555555555556, \"#d8576b\"], [0.6666666666666666, \"#ed7953\"], [0.7777777777777778, \"#fb9f3a\"], [0.8888888888888888, \"#fdca26\"], [1.0, \"#f0f921\"]], \"type\": \"heatmap\"}], \"heatmapgl\": [{\"colorbar\": {\"outlinewidth\": 0, \"ticks\": \"\"}, \"colorscale\": [[0.0, \"#0d0887\"], [0.1111111111111111, \"#46039f\"], [0.2222222222222222, \"#7201a8\"], [0.3333333333333333, \"#9c179e\"], [0.4444444444444444, \"#bd3786\"], [0.5555555555555556, \"#d8576b\"], [0.6666666666666666, \"#ed7953\"], [0.7777777777777778, \"#fb9f3a\"], [0.8888888888888888, \"#fdca26\"], [1.0, \"#f0f921\"]], \"type\": \"heatmapgl\"}], \"histogram\": [{\"marker\": {\"colorbar\": {\"outlinewidth\": 0, \"ticks\": \"\"}}, \"type\": \"histogram\"}], \"histogram2d\": [{\"colorbar\": {\"outlinewidth\": 0, \"ticks\": \"\"}, \"colorscale\": [[0.0, \"#0d0887\"], [0.1111111111111111, \"#46039f\"], [0.2222222222222222, \"#7201a8\"], [0.3333333333333333, \"#9c179e\"], [0.4444444444444444, \"#bd3786\"], [0.5555555555555556, \"#d8576b\"], [0.6666666666666666, \"#ed7953\"], [0.7777777777777778, \"#fb9f3a\"], [0.8888888888888888, \"#fdca26\"], [1.0, \"#f0f921\"]], \"type\": \"histogram2d\"}], \"histogram2dcontour\": [{\"colorbar\": {\"outlinewidth\": 0, \"ticks\": \"\"}, \"colorscale\": [[0.0, \"#0d0887\"], [0.1111111111111111, \"#46039f\"], [0.2222222222222222, \"#7201a8\"], [0.3333333333333333, \"#9c179e\"], [0.4444444444444444, \"#bd3786\"], [0.5555555555555556, \"#d8576b\"], [0.6666666666666666, \"#ed7953\"], [0.7777777777777778, \"#fb9f3a\"], [0.8888888888888888, \"#fdca26\"], [1.0, \"#f0f921\"]], \"type\": \"histogram2dcontour\"}], \"mesh3d\": [{\"colorbar\": {\"outlinewidth\": 0, \"ticks\": \"\"}, \"type\": \"mesh3d\"}], \"parcoords\": [{\"line\": {\"colorbar\": {\"outlinewidth\": 0, \"ticks\": \"\"}}, \"type\": \"parcoords\"}], \"pie\": [{\"automargin\": true, \"type\": \"pie\"}], \"scatter\": [{\"marker\": {\"colorbar\": {\"outlinewidth\": 0, \"ticks\": \"\"}}, \"type\": \"scatter\"}], \"scatter3d\": [{\"line\": {\"colorbar\": {\"outlinewidth\": 0, \"ticks\": \"\"}}, \"marker\": {\"colorbar\": {\"outlinewidth\": 0, \"ticks\": \"\"}}, \"type\": \"scatter3d\"}], \"scattercarpet\": [{\"marker\": {\"colorbar\": {\"outlinewidth\": 0, \"ticks\": \"\"}}, \"type\": \"scattercarpet\"}], \"scattergeo\": [{\"marker\": {\"colorbar\": {\"outlinewidth\": 0, \"ticks\": \"\"}}, \"type\": \"scattergeo\"}], \"scattergl\": [{\"marker\": {\"colorbar\": {\"outlinewidth\": 0, \"ticks\": \"\"}}, \"type\": \"scattergl\"}], \"scattermapbox\": [{\"marker\": {\"colorbar\": {\"outlinewidth\": 0, \"ticks\": \"\"}}, \"type\": \"scattermapbox\"}], \"scatterpolar\": [{\"marker\": {\"colorbar\": {\"outlinewidth\": 0, \"ticks\": \"\"}}, \"type\": \"scatterpolar\"}], \"scatterpolargl\": [{\"marker\": {\"colorbar\": {\"outlinewidth\": 0, \"ticks\": \"\"}}, \"type\": \"scatterpolargl\"}], \"scatterternary\": [{\"marker\": {\"colorbar\": {\"outlinewidth\": 0, \"ticks\": \"\"}}, \"type\": \"scatterternary\"}], \"surface\": [{\"colorbar\": {\"outlinewidth\": 0, \"ticks\": \"\"}, \"colorscale\": [[0.0, \"#0d0887\"], [0.1111111111111111, \"#46039f\"], [0.2222222222222222, \"#7201a8\"], [0.3333333333333333, \"#9c179e\"], [0.4444444444444444, \"#bd3786\"], [0.5555555555555556, \"#d8576b\"], [0.6666666666666666, \"#ed7953\"], [0.7777777777777778, \"#fb9f3a\"], [0.8888888888888888, \"#fdca26\"], [1.0, \"#f0f921\"]], \"type\": \"surface\"}], \"table\": [{\"cells\": {\"fill\": {\"color\": \"#EBF0F8\"}, \"line\": {\"color\": \"white\"}}, \"header\": {\"fill\": {\"color\": \"#C8D4E3\"}, \"line\": {\"color\": \"white\"}}, \"type\": \"table\"}]}, \"layout\": {\"annotationdefaults\": {\"arrowcolor\": \"#2a3f5f\", \"arrowhead\": 0, \"arrowwidth\": 1}, \"autotypenumbers\": \"strict\", \"coloraxis\": {\"colorbar\": {\"outlinewidth\": 0, \"ticks\": \"\"}}, \"colorscale\": {\"diverging\": [[0, \"#8e0152\"], [0.1, \"#c51b7d\"], [0.2, \"#de77ae\"], [0.3, \"#f1b6da\"], [0.4, \"#fde0ef\"], [0.5, \"#f7f7f7\"], [0.6, \"#e6f5d0\"], [0.7, \"#b8e186\"], [0.8, \"#7fbc41\"], [0.9, \"#4d9221\"], [1, \"#276419\"]], \"sequential\": [[0.0, \"#0d0887\"], [0.1111111111111111, \"#46039f\"], [0.2222222222222222, \"#7201a8\"], [0.3333333333333333, \"#9c179e\"], [0.4444444444444444, \"#bd3786\"], [0.5555555555555556, \"#d8576b\"], [0.6666666666666666, \"#ed7953\"], [0.7777777777777778, \"#fb9f3a\"], [0.8888888888888888, \"#fdca26\"], [1.0, \"#f0f921\"]], \"sequentialminus\": [[0.0, \"#0d0887\"], [0.1111111111111111, \"#46039f\"], [0.2222222222222222, \"#7201a8\"], [0.3333333333333333, \"#9c179e\"], [0.4444444444444444, \"#bd3786\"], [0.5555555555555556, \"#d8576b\"], [0.6666666666666666, \"#ed7953\"], [0.7777777777777778, \"#fb9f3a\"], [0.8888888888888888, \"#fdca26\"], [1.0, \"#f0f921\"]]}, \"colorway\": [\"#636efa\", \"#EF553B\", \"#00cc96\", \"#ab63fa\", \"#FFA15A\", \"#19d3f3\", \"#FF6692\", \"#B6E880\", \"#FF97FF\", \"#FECB52\"], \"font\": {\"color\": \"#2a3f5f\"}, \"geo\": {\"bgcolor\": \"white\", \"lakecolor\": \"white\", \"landcolor\": \"#E5ECF6\", \"showlakes\": true, \"showland\": true, \"subunitcolor\": \"white\"}, \"hoverlabel\": {\"align\": \"left\"}, \"hovermode\": \"closest\", \"mapbox\": {\"style\": \"light\"}, \"paper_bgcolor\": \"white\", \"plot_bgcolor\": \"#E5ECF6\", \"polar\": {\"angularaxis\": {\"gridcolor\": \"white\", \"linecolor\": \"white\", \"ticks\": \"\"}, \"bgcolor\": \"#E5ECF6\", \"radialaxis\": {\"gridcolor\": \"white\", \"linecolor\": \"white\", \"ticks\": \"\"}}, \"scene\": {\"xaxis\": {\"backgroundcolor\": \"#E5ECF6\", \"gridcolor\": \"white\", \"gridwidth\": 2, \"linecolor\": \"white\", \"showbackground\": true, \"ticks\": \"\", \"zerolinecolor\": \"white\"}, \"yaxis\": {\"backgroundcolor\": \"#E5ECF6\", \"gridcolor\": \"white\", \"gridwidth\": 2, \"linecolor\": \"white\", \"showbackground\": true, \"ticks\": \"\", \"zerolinecolor\": \"white\"}, \"zaxis\": {\"backgroundcolor\": \"#E5ECF6\", \"gridcolor\": \"white\", \"gridwidth\": 2, \"linecolor\": \"white\", \"showbackground\": true, \"ticks\": \"\", \"zerolinecolor\": \"white\"}}, \"shapedefaults\": {\"line\": {\"color\": \"#2a3f5f\"}}, \"ternary\": {\"aaxis\": {\"gridcolor\": \"white\", \"linecolor\": \"white\", \"ticks\": \"\"}, \"baxis\": {\"gridcolor\": \"white\", \"linecolor\": \"white\", \"ticks\": \"\"}, \"bgcolor\": \"#E5ECF6\", \"caxis\": {\"gridcolor\": \"white\", \"linecolor\": \"white\", \"ticks\": \"\"}}, \"title\": {\"x\": 0.05}, \"xaxis\": {\"automargin\": true, \"gridcolor\": \"white\", \"linecolor\": \"white\", \"ticks\": \"\", \"title\": {\"standoff\": 15}, \"zerolinecolor\": \"white\", \"zerolinewidth\": 2}, \"yaxis\": {\"automargin\": true, \"gridcolor\": \"white\", \"linecolor\": \"white\", \"ticks\": \"\", \"title\": {\"standoff\": 15}, \"zerolinecolor\": \"white\", \"zerolinewidth\": 2}}}},                        {\"responsive\": true}                    ).then(function(){\n",
       "                            \n",
       "var gd = document.getElementById('a6bbb5e9-f46e-432a-8268-5bd26d5dde95');\n",
       "var x = new MutationObserver(function (mutations, observer) {{\n",
       "        var display = window.getComputedStyle(gd).display;\n",
       "        if (!display || display === 'none') {{\n",
       "            console.log([gd, 'removed!']);\n",
       "            Plotly.purge(gd);\n",
       "            observer.disconnect();\n",
       "        }}\n",
       "}});\n",
       "\n",
       "// Listen for the removal of the full notebook cells\n",
       "var notebookContainer = gd.closest('#notebook-container');\n",
       "if (notebookContainer) {{\n",
       "    x.observe(notebookContainer, {childList: true});\n",
       "}}\n",
       "\n",
       "// Listen for the clearing of the current output cell\n",
       "var outputEl = gd.closest('.output');\n",
       "if (outputEl) {{\n",
       "    x.observe(outputEl, {childList: true});\n",
       "}}\n",
       "\n",
       "                        })                };                });            </script>        </div>"
      ]
     },
     "metadata": {},
     "output_type": "display_data"
    }
   ],
   "source": [
    "# easier way, stop_lost with line width\n",
    "\n",
    "fig = go.Figure(go.Bar(x = m5['POS'], y = m5['CADD_PHRED_VEP_gr0'], name = 'Var1', marker = dict(line = dict(color = 'blue', width = list(m5['new_stop_gr0'])))))\n",
    "fig.add_trace(go.Bar(x = m5['POS'], y = m5['CADD_PHRED_VEP_gr1'], name = 'Var2', marker = dict(line = dict(color = 'blue', width = list(m5['new_stop_gr1'])))))\n",
    "fig.add_trace(go.Bar(x = m5['POS'], y = m5['CADD_PHRED_VEP_gr2'], name = 'Var3', marker = dict(line = dict(color = 'blue', width = list(m5['new_stop_gr2'])))))\n",
    "fig.add_trace(go.Bar(x = m5['POS'], y = m5['CADD_PHRED_VEP_gr3'], name = 'Var4', marker = dict(line = dict(color = 'blue', width = list(m5['new_stop_gr3'])))))\n",
    "fig.add_trace(go.Bar(x = m5['POS'], y = m5['CADD_PHRED_VEP_gr4'], name = 'Var5', marker = dict(line = dict(color = 'blue', width = list(m5['new_stop_gr4'])))))\n",
    "fig.add_trace(go.Bar(x = m5['POS'], y = m5['CADD_PHRED_VEP_gr5'], name = 'Var6', marker = dict(line = dict(color = 'blue', width = list(m5['new_stop_gr5'])))))\n",
    "fig.update_layout(barmode = 'stack')\n",
    "fig.show()"
   ]
  }
 ],
 "metadata": {
  "kernelspec": {
   "display_name": "Python 3",
   "language": "python",
   "name": "python3"
  },
  "language_info": {
   "codemirror_mode": {
    "name": "ipython",
    "version": 3
   },
   "file_extension": ".py",
   "mimetype": "text/x-python",
   "name": "python",
   "nbconvert_exporter": "python",
   "pygments_lexer": "ipython3",
   "version": "3.8.5"
  }
 },
 "nbformat": 4,
 "nbformat_minor": 4
}
